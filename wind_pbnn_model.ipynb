{
 "cells": [
  {
   "cell_type": "markdown",
   "id": "ef3aaa32",
   "metadata": {
    "toc": true
   },
   "source": [
    "<h1>Table of Contents<span class=\"tocSkip\"></span></h1>\n",
    "<div class=\"toc\"><ul class=\"toc-item\"><li><span><a href=\"#Probabilistic-Bayesian-Neural-Network\" data-toc-modified-id=\"Probabilistic-Bayesian-Neural-Network-1\"><span class=\"toc-item-num\">1&nbsp;&nbsp;</span>Probabilistic Bayesian Neural Network</a></span><ul class=\"toc-item\"><li><span><a href=\"#Models-using-only-the-ensemble-mean\" data-toc-modified-id=\"Models-using-only-the-ensemble-mean-1.1\"><span class=\"toc-item-num\">1.1&nbsp;&nbsp;</span>Models using only the ensemble mean</a></span></li><li><span><a href=\"#Model-with-2-dim-Input-(mean,-std)\" data-toc-modified-id=\"Model-with-2-dim-Input-(mean,-std)-1.2\"><span class=\"toc-item-num\">1.2&nbsp;&nbsp;</span>Model with 2-dim Input (mean, std)</a></span><ul class=\"toc-item\"><li><span><a href=\"#Hyperparameter-tuning\" data-toc-modified-id=\"Hyperparameter-tuning-1.2.1\"><span class=\"toc-item-num\">1.2.1&nbsp;&nbsp;</span>Hyperparameter tuning</a></span></li><li><span><a href=\"#Plots\" data-toc-modified-id=\"Plots-1.2.2\"><span class=\"toc-item-num\">1.2.2&nbsp;&nbsp;</span>Plots</a></span></li><li><span><a href=\"#Forecast\" data-toc-modified-id=\"Forecast-1.2.3\"><span class=\"toc-item-num\">1.2.3&nbsp;&nbsp;</span>Forecast</a></span></li></ul></li><li><span><a href=\"#First-PBNN-Approach-(Keras-Tutorial)\" data-toc-modified-id=\"First-PBNN-Approach-(Keras-Tutorial)-1.3\"><span class=\"toc-item-num\">1.3&nbsp;&nbsp;</span>First PBNN Approach (Keras Tutorial)</a></span></li></ul></li></ul></div>"
   ]
  },
  {
   "cell_type": "code",
   "execution_count": 1,
   "id": "a3b02d9d",
   "metadata": {},
   "outputs": [],
   "source": [
    "import pandas as pd\n",
    "from datetime import date, datetime, timedelta\n",
    "from dateutil.tz import tzutc\n",
    "from os.path import exists\n",
    "from scipy import stats\n",
    "import matplotlib.pyplot as plt"
   ]
  },
  {
   "cell_type": "code",
   "execution_count": 2,
   "id": "5681269a",
   "metadata": {},
   "outputs": [
    {
     "data": {
      "text/plain": [
       "'20230215'"
      ]
     },
     "execution_count": 2,
     "metadata": {},
     "output_type": "execute_result"
    }
   ],
   "source": [
    "today = datetime.today().strftime(\"%Y%m%d\")\n",
    "today"
   ]
  },
  {
   "cell_type": "code",
   "execution_count": 3,
   "id": "ae569f19",
   "metadata": {},
   "outputs": [
    {
     "data": {
      "text/html": [
       "<div>\n",
       "<style scoped>\n",
       "    .dataframe tbody tr th:only-of-type {\n",
       "        vertical-align: middle;\n",
       "    }\n",
       "\n",
       "    .dataframe tbody tr th {\n",
       "        vertical-align: top;\n",
       "    }\n",
       "\n",
       "    .dataframe thead th {\n",
       "        text-align: right;\n",
       "    }\n",
       "</style>\n",
       "<table border=\"1\" class=\"dataframe\">\n",
       "  <thead>\n",
       "    <tr style=\"text-align: right;\">\n",
       "      <th></th>\n",
       "      <th>1</th>\n",
       "      <th>2</th>\n",
       "      <th>3</th>\n",
       "      <th>4</th>\n",
       "      <th>5</th>\n",
       "      <th>6</th>\n",
       "      <th>7</th>\n",
       "      <th>8</th>\n",
       "      <th>9</th>\n",
       "      <th>10</th>\n",
       "      <th>...</th>\n",
       "      <th>31</th>\n",
       "      <th>32</th>\n",
       "      <th>33</th>\n",
       "      <th>34</th>\n",
       "      <th>35</th>\n",
       "      <th>36</th>\n",
       "      <th>37</th>\n",
       "      <th>38</th>\n",
       "      <th>39</th>\n",
       "      <th>40</th>\n",
       "    </tr>\n",
       "    <tr>\n",
       "      <th>fcst_hour</th>\n",
       "      <th></th>\n",
       "      <th></th>\n",
       "      <th></th>\n",
       "      <th></th>\n",
       "      <th></th>\n",
       "      <th></th>\n",
       "      <th></th>\n",
       "      <th></th>\n",
       "      <th></th>\n",
       "      <th></th>\n",
       "      <th></th>\n",
       "      <th></th>\n",
       "      <th></th>\n",
       "      <th></th>\n",
       "      <th></th>\n",
       "      <th></th>\n",
       "      <th></th>\n",
       "      <th></th>\n",
       "      <th></th>\n",
       "      <th></th>\n",
       "      <th></th>\n",
       "    </tr>\n",
       "  </thead>\n",
       "  <tbody>\n",
       "    <tr>\n",
       "      <th>0</th>\n",
       "      <td>6.24</td>\n",
       "      <td>3.33</td>\n",
       "      <td>3.52</td>\n",
       "      <td>4.74</td>\n",
       "      <td>3.42</td>\n",
       "      <td>3.31</td>\n",
       "      <td>4.96</td>\n",
       "      <td>3.39</td>\n",
       "      <td>3.67</td>\n",
       "      <td>2.21</td>\n",
       "      <td>...</td>\n",
       "      <td>5.77</td>\n",
       "      <td>6.35</td>\n",
       "      <td>2.36</td>\n",
       "      <td>6.59</td>\n",
       "      <td>3.92</td>\n",
       "      <td>5.42</td>\n",
       "      <td>3.15</td>\n",
       "      <td>7.37</td>\n",
       "      <td>5.30</td>\n",
       "      <td>6.33</td>\n",
       "    </tr>\n",
       "    <tr>\n",
       "      <th>1</th>\n",
       "      <td>6.14</td>\n",
       "      <td>3.06</td>\n",
       "      <td>3.42</td>\n",
       "      <td>4.49</td>\n",
       "      <td>3.99</td>\n",
       "      <td>2.26</td>\n",
       "      <td>4.16</td>\n",
       "      <td>3.42</td>\n",
       "      <td>3.88</td>\n",
       "      <td>1.84</td>\n",
       "      <td>...</td>\n",
       "      <td>4.59</td>\n",
       "      <td>6.04</td>\n",
       "      <td>2.57</td>\n",
       "      <td>5.45</td>\n",
       "      <td>4.92</td>\n",
       "      <td>5.12</td>\n",
       "      <td>3.81</td>\n",
       "      <td>6.26</td>\n",
       "      <td>5.52</td>\n",
       "      <td>5.01</td>\n",
       "    </tr>\n",
       "    <tr>\n",
       "      <th>2</th>\n",
       "      <td>6.13</td>\n",
       "      <td>2.58</td>\n",
       "      <td>2.84</td>\n",
       "      <td>3.60</td>\n",
       "      <td>4.82</td>\n",
       "      <td>2.01</td>\n",
       "      <td>3.33</td>\n",
       "      <td>3.74</td>\n",
       "      <td>4.05</td>\n",
       "      <td>2.03</td>\n",
       "      <td>...</td>\n",
       "      <td>2.88</td>\n",
       "      <td>5.57</td>\n",
       "      <td>3.02</td>\n",
       "      <td>4.23</td>\n",
       "      <td>5.19</td>\n",
       "      <td>4.88</td>\n",
       "      <td>4.05</td>\n",
       "      <td>4.95</td>\n",
       "      <td>5.02</td>\n",
       "      <td>3.40</td>\n",
       "    </tr>\n",
       "    <tr>\n",
       "      <th>3</th>\n",
       "      <td>5.79</td>\n",
       "      <td>2.52</td>\n",
       "      <td>2.80</td>\n",
       "      <td>2.90</td>\n",
       "      <td>5.52</td>\n",
       "      <td>2.13</td>\n",
       "      <td>2.78</td>\n",
       "      <td>4.36</td>\n",
       "      <td>3.93</td>\n",
       "      <td>1.98</td>\n",
       "      <td>...</td>\n",
       "      <td>1.86</td>\n",
       "      <td>5.13</td>\n",
       "      <td>3.14</td>\n",
       "      <td>3.57</td>\n",
       "      <td>4.99</td>\n",
       "      <td>4.54</td>\n",
       "      <td>3.95</td>\n",
       "      <td>4.17</td>\n",
       "      <td>4.41</td>\n",
       "      <td>1.91</td>\n",
       "    </tr>\n",
       "    <tr>\n",
       "      <th>4</th>\n",
       "      <td>5.82</td>\n",
       "      <td>2.66</td>\n",
       "      <td>2.75</td>\n",
       "      <td>1.98</td>\n",
       "      <td>5.22</td>\n",
       "      <td>1.61</td>\n",
       "      <td>2.30</td>\n",
       "      <td>4.32</td>\n",
       "      <td>3.35</td>\n",
       "      <td>2.29</td>\n",
       "      <td>...</td>\n",
       "      <td>1.24</td>\n",
       "      <td>4.72</td>\n",
       "      <td>3.61</td>\n",
       "      <td>3.37</td>\n",
       "      <td>4.50</td>\n",
       "      <td>4.04</td>\n",
       "      <td>3.42</td>\n",
       "      <td>3.30</td>\n",
       "      <td>3.96</td>\n",
       "      <td>1.53</td>\n",
       "    </tr>\n",
       "    <tr>\n",
       "      <th>...</th>\n",
       "      <td>...</td>\n",
       "      <td>...</td>\n",
       "      <td>...</td>\n",
       "      <td>...</td>\n",
       "      <td>...</td>\n",
       "      <td>...</td>\n",
       "      <td>...</td>\n",
       "      <td>...</td>\n",
       "      <td>...</td>\n",
       "      <td>...</td>\n",
       "      <td>...</td>\n",
       "      <td>...</td>\n",
       "      <td>...</td>\n",
       "      <td>...</td>\n",
       "      <td>...</td>\n",
       "      <td>...</td>\n",
       "      <td>...</td>\n",
       "      <td>...</td>\n",
       "      <td>...</td>\n",
       "      <td>...</td>\n",
       "      <td>...</td>\n",
       "    </tr>\n",
       "    <tr>\n",
       "      <th>96</th>\n",
       "      <td>15.29</td>\n",
       "      <td>8.54</td>\n",
       "      <td>12.26</td>\n",
       "      <td>15.61</td>\n",
       "      <td>9.03</td>\n",
       "      <td>9.65</td>\n",
       "      <td>28.22</td>\n",
       "      <td>6.33</td>\n",
       "      <td>15.22</td>\n",
       "      <td>6.36</td>\n",
       "      <td>...</td>\n",
       "      <td>8.08</td>\n",
       "      <td>17.79</td>\n",
       "      <td>14.22</td>\n",
       "      <td>9.96</td>\n",
       "      <td>11.14</td>\n",
       "      <td>18.99</td>\n",
       "      <td>8.42</td>\n",
       "      <td>5.68</td>\n",
       "      <td>19.84</td>\n",
       "      <td>12.28</td>\n",
       "    </tr>\n",
       "    <tr>\n",
       "      <th>102</th>\n",
       "      <td>17.53</td>\n",
       "      <td>18.11</td>\n",
       "      <td>13.54</td>\n",
       "      <td>11.02</td>\n",
       "      <td>10.68</td>\n",
       "      <td>9.29</td>\n",
       "      <td>25.01</td>\n",
       "      <td>11.10</td>\n",
       "      <td>9.94</td>\n",
       "      <td>10.96</td>\n",
       "      <td>...</td>\n",
       "      <td>7.28</td>\n",
       "      <td>16.51</td>\n",
       "      <td>16.26</td>\n",
       "      <td>9.00</td>\n",
       "      <td>13.23</td>\n",
       "      <td>17.84</td>\n",
       "      <td>11.18</td>\n",
       "      <td>10.09</td>\n",
       "      <td>21.34</td>\n",
       "      <td>7.22</td>\n",
       "    </tr>\n",
       "    <tr>\n",
       "      <th>108</th>\n",
       "      <td>18.08</td>\n",
       "      <td>17.52</td>\n",
       "      <td>18.05</td>\n",
       "      <td>16.76</td>\n",
       "      <td>16.05</td>\n",
       "      <td>8.38</td>\n",
       "      <td>20.87</td>\n",
       "      <td>20.14</td>\n",
       "      <td>12.76</td>\n",
       "      <td>17.27</td>\n",
       "      <td>...</td>\n",
       "      <td>10.58</td>\n",
       "      <td>19.45</td>\n",
       "      <td>19.50</td>\n",
       "      <td>15.04</td>\n",
       "      <td>25.11</td>\n",
       "      <td>12.42</td>\n",
       "      <td>18.47</td>\n",
       "      <td>8.38</td>\n",
       "      <td>21.28</td>\n",
       "      <td>7.25</td>\n",
       "    </tr>\n",
       "    <tr>\n",
       "      <th>114</th>\n",
       "      <td>6.93</td>\n",
       "      <td>11.34</td>\n",
       "      <td>9.32</td>\n",
       "      <td>12.44</td>\n",
       "      <td>11.35</td>\n",
       "      <td>5.76</td>\n",
       "      <td>10.51</td>\n",
       "      <td>12.73</td>\n",
       "      <td>4.58</td>\n",
       "      <td>7.14</td>\n",
       "      <td>...</td>\n",
       "      <td>10.73</td>\n",
       "      <td>4.73</td>\n",
       "      <td>12.41</td>\n",
       "      <td>6.05</td>\n",
       "      <td>12.96</td>\n",
       "      <td>8.60</td>\n",
       "      <td>21.47</td>\n",
       "      <td>4.45</td>\n",
       "      <td>9.07</td>\n",
       "      <td>6.42</td>\n",
       "    </tr>\n",
       "    <tr>\n",
       "      <th>120</th>\n",
       "      <td>2.43</td>\n",
       "      <td>6.96</td>\n",
       "      <td>4.48</td>\n",
       "      <td>16.10</td>\n",
       "      <td>9.94</td>\n",
       "      <td>6.04</td>\n",
       "      <td>10.64</td>\n",
       "      <td>5.13</td>\n",
       "      <td>7.78</td>\n",
       "      <td>14.25</td>\n",
       "      <td>...</td>\n",
       "      <td>5.75</td>\n",
       "      <td>9.75</td>\n",
       "      <td>5.89</td>\n",
       "      <td>6.92</td>\n",
       "      <td>5.03</td>\n",
       "      <td>6.71</td>\n",
       "      <td>20.07</td>\n",
       "      <td>3.28</td>\n",
       "      <td>2.69</td>\n",
       "      <td>11.79</td>\n",
       "    </tr>\n",
       "  </tbody>\n",
       "</table>\n",
       "<p>65 rows × 40 columns</p>\n",
       "</div>"
      ],
      "text/plain": [
       "                  1        2        3        4        5        6        7   \\\n",
       " fcst_hour                                                                   \n",
       "0               6.24     3.33     3.52     4.74     3.42     3.31     4.96   \n",
       "1               6.14     3.06     3.42     4.49     3.99     2.26     4.16   \n",
       "2               6.13     2.58     2.84     3.60     4.82     2.01     3.33   \n",
       "3               5.79     2.52     2.80     2.90     5.52     2.13     2.78   \n",
       "4               5.82     2.66     2.75     1.98     5.22     1.61     2.30   \n",
       "...              ...      ...      ...      ...      ...      ...      ...   \n",
       "96             15.29     8.54    12.26    15.61     9.03     9.65    28.22   \n",
       "102            17.53    18.11    13.54    11.02    10.68     9.29    25.01   \n",
       "108            18.08    17.52    18.05    16.76    16.05     8.38    20.87   \n",
       "114             6.93    11.34     9.32    12.44    11.35     5.76    10.51   \n",
       "120             2.43     6.96     4.48    16.10     9.94     6.04    10.64   \n",
       "\n",
       "                  8        9       10   ...      31       32       33   \\\n",
       " fcst_hour                              ...                              \n",
       "0               3.39     3.67     2.21  ...     5.77     6.35     2.36   \n",
       "1               3.42     3.88     1.84  ...     4.59     6.04     2.57   \n",
       "2               3.74     4.05     2.03  ...     2.88     5.57     3.02   \n",
       "3               4.36     3.93     1.98  ...     1.86     5.13     3.14   \n",
       "4               4.32     3.35     2.29  ...     1.24     4.72     3.61   \n",
       "...              ...      ...      ...  ...      ...      ...      ...   \n",
       "96              6.33    15.22     6.36  ...     8.08    17.79    14.22   \n",
       "102            11.10     9.94    10.96  ...     7.28    16.51    16.26   \n",
       "108            20.14    12.76    17.27  ...    10.58    19.45    19.50   \n",
       "114            12.73     4.58     7.14  ...    10.73     4.73    12.41   \n",
       "120             5.13     7.78    14.25  ...     5.75     9.75     5.89   \n",
       "\n",
       "                 34       35       36       37       38       39       40   \n",
       " fcst_hour                                                                  \n",
       "0               6.59     3.92     5.42     3.15     7.37     5.30     6.33  \n",
       "1               5.45     4.92     5.12     3.81     6.26     5.52     5.01  \n",
       "2               4.23     5.19     4.88     4.05     4.95     5.02     3.40  \n",
       "3               3.57     4.99     4.54     3.95     4.17     4.41     1.91  \n",
       "4               3.37     4.50     4.04     3.42     3.30     3.96     1.53  \n",
       "...              ...      ...      ...      ...      ...      ...      ...  \n",
       "96              9.96    11.14    18.99     8.42     5.68    19.84    12.28  \n",
       "102             9.00    13.23    17.84    11.18    10.09    21.34     7.22  \n",
       "108            15.04    25.11    12.42    18.47     8.38    21.28     7.25  \n",
       "114             6.05    12.96     8.60    21.47     4.45     9.07     6.42  \n",
       "120             6.92     5.03     6.71    20.07     3.28     2.69    11.79  \n",
       "\n",
       "[65 rows x 40 columns]"
      ]
     },
     "execution_count": 3,
     "metadata": {},
     "output_type": "execute_result"
    }
   ],
   "source": [
    "path_fc_icon_eu_eps = (\n",
    "    \"../kit-weather-ensemble-point-forecast-karlsruhe/icon-eu-eps_\"\n",
    "    + today\n",
    "    + \"00_wind_mean_10m_Karlsruhe.txt\"\n",
    ")\n",
    "fc_icon_eu_eps = pd.read_csv(path_fc_icon_eu_eps, sep=\"|\", header=3, index_col=1).iloc[:,1:41]\n",
    "fc_icon_eu_eps"
   ]
  },
  {
   "cell_type": "code",
   "execution_count": 4,
   "id": "95f3ef44",
   "metadata": {},
   "outputs": [
    {
     "data": {
      "text/plain": [
       "<AxesSubplot:xlabel=' fcst_hour '>"
      ]
     },
     "execution_count": 4,
     "metadata": {},
     "output_type": "execute_result"
    },
    {
     "data": {
      "image/png": "[encoded data removed]",
      "text/plain": [
       "<Figure size 1080x432 with 1 Axes>"
      ]
     },
     "metadata": {
      "needs_background": "light"
     },
     "output_type": "display_data"
    }
   ],
   "source": [
    "fc_icon_eu_eps.plot(figsize=(15,6), legend=False)"
   ]
  },
  {
   "cell_type": "code",
   "execution_count": 5,
   "id": "21cc58a7",
   "metadata": {},
   "outputs": [],
   "source": [
    "target_horizons = [36, 48, 60, 72, 84]"
   ]
  },
  {
   "cell_type": "code",
   "execution_count": 6,
   "id": "6f3015b0",
   "metadata": {},
   "outputs": [
    {
     "data": {
      "text/html": [
       "<div>\n",
       "<style scoped>\n",
       "    .dataframe tbody tr th:only-of-type {\n",
       "        vertical-align: middle;\n",
       "    }\n",
       "\n",
       "    .dataframe tbody tr th {\n",
       "        vertical-align: top;\n",
       "    }\n",
       "\n",
       "    .dataframe thead th {\n",
       "        text-align: right;\n",
       "    }\n",
       "</style>\n",
       "<table border=\"1\" class=\"dataframe\">\n",
       "  <thead>\n",
       "    <tr style=\"text-align: right;\">\n",
       "      <th></th>\n",
       "      <th>mean</th>\n",
       "      <th>std</th>\n",
       "    </tr>\n",
       "    <tr>\n",
       "      <th>fcst_hour</th>\n",
       "      <th></th>\n",
       "      <th></th>\n",
       "    </tr>\n",
       "  </thead>\n",
       "  <tbody>\n",
       "    <tr>\n",
       "      <th>36</th>\n",
       "      <td>11.50750</td>\n",
       "      <td>2.039267</td>\n",
       "    </tr>\n",
       "    <tr>\n",
       "      <th>48</th>\n",
       "      <td>11.27125</td>\n",
       "      <td>4.442394</td>\n",
       "    </tr>\n",
       "    <tr>\n",
       "      <th>60</th>\n",
       "      <td>19.41250</td>\n",
       "      <td>5.126966</td>\n",
       "    </tr>\n",
       "    <tr>\n",
       "      <th>72</th>\n",
       "      <td>16.72875</td>\n",
       "      <td>3.878202</td>\n",
       "    </tr>\n",
       "    <tr>\n",
       "      <th>84</th>\n",
       "      <td>20.32975</td>\n",
       "      <td>6.322501</td>\n",
       "    </tr>\n",
       "  </tbody>\n",
       "</table>\n",
       "</div>"
      ],
      "text/plain": [
       "               mean       std\n",
       "fcst_hour                    \n",
       "36         11.50750  2.039267\n",
       "48         11.27125  4.442394\n",
       "60         19.41250  5.126966\n",
       "72         16.72875  3.878202\n",
       "84         20.32975  6.322501"
      ]
     },
     "execution_count": 6,
     "metadata": {},
     "output_type": "execute_result"
    }
   ],
   "source": [
    "fc_mean = fc_icon_eu_eps.mean(axis=1)\n",
    "fc_std = fc_icon_eu_eps.std(axis=1)\n",
    "fc_raw = pd.DataFrame({\"mean\": fc_mean, \"std\": fc_std})\n",
    "fc_raw.reset_index(inplace=True)\n",
    "fc_raw.rename(columns={' fcst_hour ': 'fcst_hour'}, inplace=True)\n",
    "fc_raw = fc_raw.set_index(\"fcst_hour\")\n",
    "fc_raw.loc[target_horizons,:]"
   ]
  },
  {
   "cell_type": "code",
   "execution_count": 7,
   "id": "9e8cfd9a",
   "metadata": {},
   "outputs": [
    {
     "data": {
      "text/plain": [
       "2"
      ]
     },
     "execution_count": 7,
     "metadata": {},
     "output_type": "execute_result"
    }
   ],
   "source": [
    "datetime.today().weekday()"
   ]
  },
  {
   "cell_type": "code",
   "execution_count": 8,
   "id": "6da28e4e",
   "metadata": {},
   "outputs": [],
   "source": [
    "# get dates of all wednesdays since data is available in repository\n",
    "d = date(2021, 9, 8)  # 1st wednesday data set\n",
    "wednesdays = []\n",
    "while d < date.today():\n",
    "    wednesdays.append(d.strftime(\"%Y%m%d\"))\n",
    "    d += timedelta(days=7)"
   ]
  },
  {
   "cell_type": "code",
   "execution_count": 9,
   "id": "efa0c580",
   "metadata": {},
   "outputs": [],
   "source": [
    "# read historic forecasts and calculate mean and std of ensemble\n",
    "fc_historic = []\n",
    "\n",
    "for date in wednesdays:\n",
    "    path_fc_historic = (\n",
    "        \"../kit-weather-ensemble-point-forecast-karlsruhe/icon-eu-eps_\"\n",
    "        + date\n",
    "        + \"00_wind_mean_10m_Karlsruhe.txt\"\n",
    "    )\n",
    "    \n",
    "    if exists(path_fc_historic):\n",
    "        fc_ = pd.read_csv(path_fc_historic, sep=\"|\", header=3, index_col=1).iloc[\n",
    "            :, 1:41\n",
    "        ]\n",
    "        fc_ = fc_.loc[target_horizons, :]\n",
    "\n",
    "        fc_mean = fc_.mean(axis=1)\n",
    "        fc_std = fc_.std(axis=1)\n",
    "        fc_ = pd.DataFrame(\n",
    "            {\n",
    "                \"datetime\": [\n",
    "                    datetime.strptime(date, \"%Y%m%d\").replace(tzinfo=tzutc()) + timedelta(hours=h)\n",
    "                    for h in target_horizons\n",
    "                ],\n",
    "                \"mean\": fc_mean,\n",
    "                \"std\": fc_std,\n",
    "            }\n",
    "        )\n",
    "\n",
    "        fc_historic.append(fc_)\n",
    "\n",
    "fc_historic = pd.concat(fc_historic).reset_index()\n",
    "fc_historic.rename(columns={' fcst_hour ': 'fcst_hour'}, inplace=True)"
   ]
  },
  {
   "cell_type": "code",
   "execution_count": 10,
   "id": "e6be2adc",
   "metadata": {},
   "outputs": [
    {
     "data": {
      "text/plain": [
       "'../project/data/weather/stundenwerte_FF_04177_akt/produkt_ff_stunde_20210814_20230214_04177.txt'"
      ]
     },
     "execution_count": 10,
     "metadata": {},
     "output_type": "execute_result"
    }
   ],
   "source": [
    "station_id = \"04177\"\n",
    "yesterday = (datetime.today() - pd.DateOffset(days=1)).strftime(\"%Y%m%d\")\n",
    "start_historic = (datetime.today() - pd.DateOffset(days=550)).strftime(\"%Y%m%d\")\n",
    "file_historic = \"produkt_ff_stunde_\" + start_historic + \"_\" + yesterday + \"_\" + station_id + \".txt\"\n",
    "path_historic = \"../project/data/weather/stundenwerte_FF_\" + station_id + \"_akt/\" + file_historic\n",
    "path_historic"
   ]
  },
  {
   "cell_type": "code",
   "execution_count": 11,
   "id": "3c20535d",
   "metadata": {},
   "outputs": [],
   "source": [
    "#path_historic = \"../project/data/weather/stundenwerte_FF_04177_akt/produkt_ff_stunde_20210723_20230123_04177.txt\""
   ]
  },
  {
   "cell_type": "code",
   "execution_count": 12,
   "id": "1beab0b6",
   "metadata": {},
   "outputs": [
    {
     "data": {
      "text/html": [
       "<div>\n",
       "<style scoped>\n",
       "    .dataframe tbody tr th:only-of-type {\n",
       "        vertical-align: middle;\n",
       "    }\n",
       "\n",
       "    .dataframe tbody tr th {\n",
       "        vertical-align: top;\n",
       "    }\n",
       "\n",
       "    .dataframe thead th {\n",
       "        text-align: right;\n",
       "    }\n",
       "</style>\n",
       "<table border=\"1\" class=\"dataframe\">\n",
       "  <thead>\n",
       "    <tr style=\"text-align: right;\">\n",
       "      <th></th>\n",
       "      <th>datetime</th>\n",
       "      <th>mean_wind_speed</th>\n",
       "    </tr>\n",
       "  </thead>\n",
       "  <tbody>\n",
       "    <tr>\n",
       "      <th>0</th>\n",
       "      <td>2021-08-14 00:00:00+00:00</td>\n",
       "      <td>0.9</td>\n",
       "    </tr>\n",
       "    <tr>\n",
       "      <th>1</th>\n",
       "      <td>2021-08-14 01:00:00+00:00</td>\n",
       "      <td>0.6</td>\n",
       "    </tr>\n",
       "    <tr>\n",
       "      <th>2</th>\n",
       "      <td>2021-08-14 02:00:00+00:00</td>\n",
       "      <td>0.6</td>\n",
       "    </tr>\n",
       "    <tr>\n",
       "      <th>3</th>\n",
       "      <td>2021-08-14 03:00:00+00:00</td>\n",
       "      <td>0.5</td>\n",
       "    </tr>\n",
       "    <tr>\n",
       "      <th>4</th>\n",
       "      <td>2021-08-14 04:00:00+00:00</td>\n",
       "      <td>0.5</td>\n",
       "    </tr>\n",
       "    <tr>\n",
       "      <th>...</th>\n",
       "      <td>...</td>\n",
       "      <td>...</td>\n",
       "    </tr>\n",
       "    <tr>\n",
       "      <th>13194</th>\n",
       "      <td>2023-02-14 19:00:00+00:00</td>\n",
       "      <td>0.7</td>\n",
       "    </tr>\n",
       "    <tr>\n",
       "      <th>13195</th>\n",
       "      <td>2023-02-14 20:00:00+00:00</td>\n",
       "      <td>0.7</td>\n",
       "    </tr>\n",
       "    <tr>\n",
       "      <th>13196</th>\n",
       "      <td>2023-02-14 21:00:00+00:00</td>\n",
       "      <td>0.5</td>\n",
       "    </tr>\n",
       "    <tr>\n",
       "      <th>13197</th>\n",
       "      <td>2023-02-14 22:00:00+00:00</td>\n",
       "      <td>1.0</td>\n",
       "    </tr>\n",
       "    <tr>\n",
       "      <th>13198</th>\n",
       "      <td>2023-02-14 23:00:00+00:00</td>\n",
       "      <td>1.4</td>\n",
       "    </tr>\n",
       "  </tbody>\n",
       "</table>\n",
       "<p>13199 rows × 2 columns</p>\n",
       "</div>"
      ],
      "text/plain": [
       "                       datetime  mean_wind_speed\n",
       "0     2021-08-14 00:00:00+00:00              0.9\n",
       "1     2021-08-14 01:00:00+00:00              0.6\n",
       "2     2021-08-14 02:00:00+00:00              0.6\n",
       "3     2021-08-14 03:00:00+00:00              0.5\n",
       "4     2021-08-14 04:00:00+00:00              0.5\n",
       "...                         ...              ...\n",
       "13194 2023-02-14 19:00:00+00:00              0.7\n",
       "13195 2023-02-14 20:00:00+00:00              0.7\n",
       "13196 2023-02-14 21:00:00+00:00              0.5\n",
       "13197 2023-02-14 22:00:00+00:00              1.0\n",
       "13198 2023-02-14 23:00:00+00:00              1.4\n",
       "\n",
       "[13199 rows x 2 columns]"
      ]
     },
     "execution_count": 12,
     "metadata": {},
     "output_type": "execute_result"
    }
   ],
   "source": [
    "historic_data = pd.read_csv(path_historic, sep=\";\").loc[:, [\"MESS_DATUM\", \"   F\"]]\n",
    "historic_data.columns = [\"datetime\", \"mean_wind_speed\"]\n",
    "historic_data.loc[:, \"datetime\"] = historic_data.datetime.apply(\n",
    "    lambda x: datetime.strptime(str(x), \"%Y%m%d%H\").replace(tzinfo=tzutc())\n",
    ")\n",
    "historic_data"
   ]
  },
  {
   "cell_type": "code",
   "execution_count": 13,
   "id": "31fe4ae5",
   "metadata": {},
   "outputs": [
    {
     "data": {
      "text/plain": [
       "3.2243503295704223"
      ]
     },
     "execution_count": 13,
     "metadata": {},
     "output_type": "execute_result"
    }
   ],
   "source": [
    "historic_data.mean_wind_speed.mean()"
   ]
  },
  {
   "cell_type": "code",
   "execution_count": 14,
   "id": "54275467",
   "metadata": {},
   "outputs": [
    {
     "data": {
      "text/plain": [
       "5.058149250195186"
      ]
     },
     "execution_count": 14,
     "metadata": {},
     "output_type": "execute_result"
    }
   ],
   "source": [
    "historic_data.mean_wind_speed.std()**2"
   ]
  },
  {
   "cell_type": "code",
   "execution_count": 15,
   "id": "a616e08b",
   "metadata": {},
   "outputs": [
    {
     "data": {
      "text/html": [
       "<div>\n",
       "<style scoped>\n",
       "    .dataframe tbody tr th:only-of-type {\n",
       "        vertical-align: middle;\n",
       "    }\n",
       "\n",
       "    .dataframe tbody tr th {\n",
       "        vertical-align: top;\n",
       "    }\n",
       "\n",
       "    .dataframe thead th {\n",
       "        text-align: right;\n",
       "    }\n",
       "</style>\n",
       "<table border=\"1\" class=\"dataframe\">\n",
       "  <thead>\n",
       "    <tr style=\"text-align: right;\">\n",
       "      <th></th>\n",
       "      <th>mean_wind_speed</th>\n",
       "      <th>fcst_hour</th>\n",
       "      <th>mean</th>\n",
       "      <th>std</th>\n",
       "    </tr>\n",
       "    <tr>\n",
       "      <th>datetime</th>\n",
       "      <th></th>\n",
       "      <th></th>\n",
       "      <th></th>\n",
       "      <th></th>\n",
       "    </tr>\n",
       "  </thead>\n",
       "  <tbody>\n",
       "    <tr>\n",
       "      <th>2021-09-09 12:00:00+00:00</th>\n",
       "      <td>6.8</td>\n",
       "      <td>36</td>\n",
       "      <td>12.56225</td>\n",
       "      <td>1.863514</td>\n",
       "    </tr>\n",
       "    <tr>\n",
       "      <th>2021-09-10 00:00:00+00:00</th>\n",
       "      <td>1.9</td>\n",
       "      <td>48</td>\n",
       "      <td>4.29000</td>\n",
       "      <td>1.274688</td>\n",
       "    </tr>\n",
       "    <tr>\n",
       "      <th>2021-09-10 12:00:00+00:00</th>\n",
       "      <td>2.5</td>\n",
       "      <td>60</td>\n",
       "      <td>8.43150</td>\n",
       "      <td>3.378290</td>\n",
       "    </tr>\n",
       "    <tr>\n",
       "      <th>2021-09-11 00:00:00+00:00</th>\n",
       "      <td>2.7</td>\n",
       "      <td>72</td>\n",
       "      <td>4.81825</td>\n",
       "      <td>1.390550</td>\n",
       "    </tr>\n",
       "    <tr>\n",
       "      <th>2021-09-11 12:00:00+00:00</th>\n",
       "      <td>3.4</td>\n",
       "      <td>84</td>\n",
       "      <td>10.22800</td>\n",
       "      <td>3.628088</td>\n",
       "    </tr>\n",
       "    <tr>\n",
       "      <th>...</th>\n",
       "      <td>...</td>\n",
       "      <td>...</td>\n",
       "      <td>...</td>\n",
       "      <td>...</td>\n",
       "    </tr>\n",
       "    <tr>\n",
       "      <th>2023-02-09 12:00:00+00:00</th>\n",
       "      <td>2.2</td>\n",
       "      <td>36</td>\n",
       "      <td>5.48300</td>\n",
       "      <td>2.131705</td>\n",
       "    </tr>\n",
       "    <tr>\n",
       "      <th>2023-02-10 00:00:00+00:00</th>\n",
       "      <td>1.6</td>\n",
       "      <td>48</td>\n",
       "      <td>5.23250</td>\n",
       "      <td>1.210894</td>\n",
       "    </tr>\n",
       "    <tr>\n",
       "      <th>2023-02-10 12:00:00+00:00</th>\n",
       "      <td>3.5</td>\n",
       "      <td>60</td>\n",
       "      <td>7.86075</td>\n",
       "      <td>3.099715</td>\n",
       "    </tr>\n",
       "    <tr>\n",
       "      <th>2023-02-11 00:00:00+00:00</th>\n",
       "      <td>2.2</td>\n",
       "      <td>72</td>\n",
       "      <td>6.68425</td>\n",
       "      <td>3.249815</td>\n",
       "    </tr>\n",
       "    <tr>\n",
       "      <th>2023-02-11 12:00:00+00:00</th>\n",
       "      <td>5.2</td>\n",
       "      <td>84</td>\n",
       "      <td>11.55025</td>\n",
       "      <td>4.034497</td>\n",
       "    </tr>\n",
       "  </tbody>\n",
       "</table>\n",
       "<p>350 rows × 4 columns</p>\n",
       "</div>"
      ],
      "text/plain": [
       "                           mean_wind_speed  fcst_hour      mean       std\n",
       "datetime                                                                 \n",
       "2021-09-09 12:00:00+00:00              6.8         36  12.56225  1.863514\n",
       "2021-09-10 00:00:00+00:00              1.9         48   4.29000  1.274688\n",
       "2021-09-10 12:00:00+00:00              2.5         60   8.43150  3.378290\n",
       "2021-09-11 00:00:00+00:00              2.7         72   4.81825  1.390550\n",
       "2021-09-11 12:00:00+00:00              3.4         84  10.22800  3.628088\n",
       "...                                    ...        ...       ...       ...\n",
       "2023-02-09 12:00:00+00:00              2.2         36   5.48300  2.131705\n",
       "2023-02-10 00:00:00+00:00              1.6         48   5.23250  1.210894\n",
       "2023-02-10 12:00:00+00:00              3.5         60   7.86075  3.099715\n",
       "2023-02-11 00:00:00+00:00              2.2         72   6.68425  3.249815\n",
       "2023-02-11 12:00:00+00:00              5.2         84  11.55025  4.034497\n",
       "\n",
       "[350 rows x 4 columns]"
      ]
     },
     "execution_count": 15,
     "metadata": {},
     "output_type": "execute_result"
    }
   ],
   "source": [
    "data = historic_data.merge(fc_historic, how=\"inner\", on=\"datetime\").set_index(\"datetime\")\n",
    "X = data[[\"mean\", \"std\"]]\n",
    "y = data[\"mean_wind_speed\"]\n",
    "data"
   ]
  },
  {
   "cell_type": "markdown",
   "id": "5db998da",
   "metadata": {},
   "source": [
    "# Probabilistic Bayesian Neural Network"
   ]
  },
  {
   "cell_type": "code",
   "execution_count": 16,
   "id": "2633fd66",
   "metadata": {},
   "outputs": [],
   "source": [
    "import numpy as np\n",
    "import tensorflow as tf\n",
    "from tensorflow import keras\n",
    "from tensorflow.keras import layers, callbacks\n",
    "import tensorflow_probability as tfp\n",
    "from sklearn.model_selection import train_test_split\n",
    "import GPyOpt\n",
    "from sklearn.model_selection import GridSearchCV\n",
    "#import CRPS.CRPS as pscore\n",
    "#import properscoring as ps\n",
    "tfd = tfp.distributions"
   ]
  },
  {
   "cell_type": "code",
   "execution_count": 17,
   "id": "f324d031",
   "metadata": {},
   "outputs": [],
   "source": [
    "X_train, X_test, Y_train, Y_test = train_test_split(\n",
    "    data[[\"mean\", \"std\"]], data[\"mean_wind_speed\"], train_size=0.85, shuffle=False\n",
    ")\n",
    "\n",
    "mean_max = X_train[\"mean\"].max()\n",
    "std_max = X_train[\"std\"].max()\n",
    "y_max = Y_train.max()\n",
    "\n",
    "x_mean_train = np.array(X_train[\"mean\"] / mean_max).reshape(-1, 1)\n",
    "x_mean_test = np.array(X_test[\"mean\"] / mean_max).reshape(-1, 1)\n",
    "x_std_train = np.array(X_train[\"std\"] / std_max).reshape(-1, 1)\n",
    "x_std_test = np.array(X_test[\"std\"] / std_max).reshape(-1, 1)\n",
    "y_train = np.array(Y_train / y_max).reshape(-1, 1)\n",
    "y_test = np.array(Y_test / y_max).reshape(-1, 1)\n",
    "\n",
    "x_train = pd.DataFrame({\"mean\": X_train[\"mean\"] / mean_max, \"std\": X_train[\"std\"] / std_max})\n",
    "x_test = pd.DataFrame({\"mean\": X_test[\"mean\"] / mean_max, \"std\": X_test[\"std\"] / std_max})"
   ]
  },
  {
   "cell_type": "code",
   "execution_count": 18,
   "id": "ac9c2c53",
   "metadata": {
    "cell_style": "split"
   },
   "outputs": [
    {
     "data": {
      "image/png": "[encoded data removed]",
      "text/plain": [
       "<Figure size 432x288 with 1 Axes>"
      ]
     },
     "metadata": {
      "needs_background": "light"
     },
     "output_type": "display_data"
    }
   ],
   "source": [
    "plt.scatter(X_train[\"mean\"], Y_train)\n",
    "plt.plot(X_train[\"mean\"], X_train[\"mean\"])\n",
    "plt.show()"
   ]
  },
  {
   "cell_type": "code",
   "execution_count": 19,
   "id": "67ff56a1",
   "metadata": {
    "cell_style": "split"
   },
   "outputs": [
    {
     "data": {
      "image/png": "[encoded data removed]",
      "text/plain": [
       "<Figure size 432x288 with 1 Axes>"
      ]
     },
     "metadata": {
      "needs_background": "light"
     },
     "output_type": "display_data"
    }
   ],
   "source": [
    "plt.scatter(x_train[\"mean\"], y_train)\n",
    "plt.plot(x_train[\"mean\"], x_train[\"mean\"])\n",
    "plt.show()"
   ]
  },
  {
   "cell_type": "code",
   "execution_count": null,
   "id": "25bfd52c",
   "metadata": {},
   "outputs": [],
   "source": [
    "# x_train, x_test, y_train, y_test = train_test_split(\n",
    "#    data[[\"mean\", \"std\"]], data[\"mean_wind_speed\"], train_size=0.85, shuffle=False\n",
    "# )\n",
    "# x_mean_train = np.array(x_train[\"mean\"]).reshape(-1,1)\n",
    "# x_std_train = np.array(x_train[\"std\"]).reshape(-1,1)\n",
    "# y_train = np.array(y_train).reshape(-1,1)\n",
    "# x_mean_test = np.array(x_test[\"mean\"]).reshape(-1,1)\n",
    "# x_std_test = np.array(x_test[\"std\"]).reshape(-1,1)\n",
    "# y_test = np.array(y_test).reshape(-1,1)"
   ]
  },
  {
   "cell_type": "markdown",
   "id": "48a880e6",
   "metadata": {
    "heading_collapsed": true
   },
   "source": [
    "## Models using only the ensemble mean"
   ]
  },
  {
   "cell_type": "code",
   "execution_count": null,
   "id": "62402b63",
   "metadata": {
    "hidden": true
   },
   "outputs": [],
   "source": [
    "# Build model.\n",
    "model = tf.keras.Sequential(\n",
    "    [\n",
    "        tf.keras.layers.Dense(1),\n",
    "        tfp.layers.DistributionLambda(lambda t: tfd.Normal(loc=t, scale=1)),\n",
    "    ]\n",
    ")\n",
    "\n",
    "# Do inference.\n",
    "model.compile(optimizer=tf.optimizers.Adam(learning_rate=0.01), loss=negloglik)\n",
    "model.fit(x_train, y_train, epochs=1000, verbose=False)\n",
    "print(model.summary())\n",
    "\n",
    "# Profit.\n",
    "[print(np.squeeze(w.numpy())) for w in model.weights]\n",
    "yhat = model(x_test)\n",
    "print(yhat)\n",
    "assert isinstance(yhat, tfd.Distribution)"
   ]
  },
  {
   "cell_type": "code",
   "execution_count": null,
   "id": "b3a351c8",
   "metadata": {
    "hidden": true
   },
   "outputs": [],
   "source": [
    "w = np.squeeze(model.layers[-2].kernel.numpy())\n",
    "b = np.squeeze(model.layers[-2].bias.numpy())\n",
    "\n",
    "plt.figure(figsize=[6,4])\n",
    "plt.plot(x_test, y_test, 'b.', label='observed');\n",
    "plt.plot(x_test, yhat.mean(),'r', label='mean', linewidth=2);\n",
    "\n",
    "ax=plt.gca();\n",
    "ax.xaxis.set_ticks_position('bottom')\n",
    "ax.yaxis.set_ticks_position('left')\n",
    "ax.spines['left'].set_position(('data', 0))\n",
    "ax.spines['top'].set_visible(False)\n",
    "ax.spines['right'].set_visible(False)\n",
    "plt.legend(loc='center left', fancybox=True, framealpha=0., bbox_to_anchor=(1.05, 0.5))\n",
    "plt.show()"
   ]
  },
  {
   "cell_type": "code",
   "execution_count": null,
   "id": "991a9c7c",
   "metadata": {
    "hidden": true
   },
   "outputs": [],
   "source": [
    "# Build model.\n",
    "model = tf.keras.Sequential(\n",
    "    [\n",
    "        tf.keras.layers.Dense(1 + 1),\n",
    "        tfp.layers.DistributionLambda(\n",
    "            lambda t: tfd.Normal(\n",
    "                loc=t[..., :1], scale=1e-3 + tf.math.softplus(0.05 * t[..., 1:])\n",
    "            )\n",
    "        ),\n",
    "    ]\n",
    ")\n",
    "\n",
    "# Do inference.\n",
    "model.compile(optimizer=tf.optimizers.Adam(learning_rate=0.01), loss=negloglik)\n",
    "model.fit(x_train, y_train, epochs=1000, verbose=False)\n",
    "\n",
    "# Profit.\n",
    "[print(np.squeeze(w.numpy())) for w in model.weights]\n",
    "yhat = model(x_test)\n",
    "assert isinstance(yhat, tfd.Distribution)"
   ]
  },
  {
   "cell_type": "code",
   "execution_count": null,
   "id": "84dbb8da",
   "metadata": {
    "hidden": true
   },
   "outputs": [],
   "source": [
    "plt.figure(figsize=[6, 4])  # inches\n",
    "plt.plot(x_train, y_train, 'c.', label='train');\n",
    "plt.plot(x_test, y_test, 'b.', label='test');\n",
    "\n",
    "m = yhat.mean()\n",
    "s = yhat.stddev()\n",
    "\n",
    "plt.plot(x_test, m, 'r', linewidth=2, label='mean');\n",
    "plt.plot(x_test, m + 2 * s, 'g', linewidth=2, label=r'mean + 2 stddev');\n",
    "plt.plot(x_test, m - 2 * s, 'g', linewidth=2, label=r'mean - 2 stddev');\n",
    "\n",
    "ax=plt.gca();\n",
    "ax.xaxis.set_ticks_position('bottom')\n",
    "ax.yaxis.set_ticks_position('left')\n",
    "ax.spines['left'].set_position(('data', 0))\n",
    "ax.spines['top'].set_visible(False)\n",
    "ax.spines['right'].set_visible(False)\n",
    "plt.legend(loc='center left', fancybox=True, framealpha=0., bbox_to_anchor=(1.05, 0.5))\n",
    "plt.show()"
   ]
  },
  {
   "cell_type": "code",
   "execution_count": null,
   "id": "e8507148",
   "metadata": {
    "hidden": true
   },
   "outputs": [],
   "source": [
    "# Specify the surrogate posterior over `keras.layers.Dense` `kernel` and `bias`.\n",
    "def posterior_mean_field(kernel_size, bias_size=0, dtype=None):\n",
    "    n = kernel_size + bias_size\n",
    "    c = np.log(np.expm1(1.0))\n",
    "    return tf.keras.Sequential(\n",
    "        [\n",
    "            tfp.layers.VariableLayer(2 * n, dtype=dtype),\n",
    "            tfp.layers.DistributionLambda(\n",
    "                lambda t: tfd.Independent(\n",
    "                    tfd.Normal(\n",
    "                        loc=t[..., :n], scale=1e-5 + tf.nn.softplus(c + t[..., n:])\n",
    "                    ),\n",
    "                    reinterpreted_batch_ndims=1,\n",
    "                )\n",
    "            ),\n",
    "        ]\n",
    "    )"
   ]
  },
  {
   "cell_type": "code",
   "execution_count": null,
   "id": "fedb332b",
   "metadata": {
    "hidden": true
   },
   "outputs": [],
   "source": [
    "# Specify the prior over `keras.layers.Dense` `kernel` and `bias`.\n",
    "def prior_trainable(kernel_size, bias_size=0, dtype=None):\n",
    "    n = kernel_size + bias_size\n",
    "    return tf.keras.Sequential(\n",
    "        [\n",
    "            tfp.layers.VariableLayer(n, dtype=dtype),\n",
    "            tfp.layers.DistributionLambda(\n",
    "                lambda t: tfd.Independent(\n",
    "                    tfd.Normal(loc=t, scale=1), reinterpreted_batch_ndims=1\n",
    "                )\n",
    "            ),\n",
    "        ]\n",
    "    )"
   ]
  },
  {
   "cell_type": "code",
   "execution_count": null,
   "id": "f6a9de1a",
   "metadata": {
    "hidden": true
   },
   "outputs": [],
   "source": [
    "# Build model.\n",
    "model = tf.keras.Sequential([\n",
    "  tfp.layers.DenseVariational(1, posterior_mean_field, prior_trainable, kl_weight=1/x.shape[0]),\n",
    "  tfp.layers.DistributionLambda(lambda t: tfd.Normal(loc=t, scale=1)),\n",
    "])\n",
    "\n",
    "# Do inference.\n",
    "model.compile(optimizer=tf.optimizers.Adam(learning_rate=0.01), loss=negloglik)\n",
    "model.fit(x_train, y_train, epochs=1000, verbose=False);\n",
    "\n",
    "# Profit.\n",
    "[print(np.squeeze(w.numpy())) for w in model.weights];\n",
    "yhat = model(x_test)\n",
    "assert isinstance(yhat, tfd.Distribution)"
   ]
  },
  {
   "cell_type": "code",
   "execution_count": null,
   "id": "229b6453",
   "metadata": {
    "hidden": true
   },
   "outputs": [],
   "source": [
    "plt.figure(figsize=[6, 4])\n",
    "plt.clf()\n",
    "plt.plot(x_train, y_train, \"c.\", label=\"train\")\n",
    "plt.plot(x_test, y_test, \"b.\", label=\"test\")\n",
    "\n",
    "yhats = [model(x_test) for _ in range(100)]\n",
    "avgm = np.zeros_like(x_test[..., 0])\n",
    "for i, yhat in enumerate(yhats):\n",
    "    m = np.squeeze(yhat.mean())\n",
    "    s = np.squeeze(yhat.stddev())\n",
    "    if i < 25:\n",
    "        plt.plot(\n",
    "            x_test, m, \"r\", label=\"ensemble means\" if i == 0 else None, linewidth=0.5\n",
    "        )\n",
    "    avgm += m\n",
    "plt.plot(x_test, avgm / len(yhats), \"r\", label=\"overall mean\", linewidth=2)\n",
    "\n",
    "ax = plt.gca()\n",
    "ax.xaxis.set_ticks_position(\"bottom\")\n",
    "ax.yaxis.set_ticks_position(\"left\")\n",
    "ax.spines[\"left\"].set_position((\"data\", 0))\n",
    "ax.spines[\"top\"].set_visible(False)\n",
    "ax.spines[\"right\"].set_visible(False)\n",
    "plt.legend(loc=\"center left\", fancybox=True, framealpha=0.0, bbox_to_anchor=(1.05, 0.5))\n",
    "plt.show()"
   ]
  },
  {
   "cell_type": "code",
   "execution_count": null,
   "id": "ea8c4219",
   "metadata": {
    "hidden": true
   },
   "outputs": [],
   "source": [
    "# Build model.\n",
    "model = tf.keras.Sequential(\n",
    "    [\n",
    "        tfp.layers.DenseVariational(\n",
    "            1 + 1, posterior_mean_field, prior_trainable, kl_weight=1 / x.shape[0]\n",
    "        ),\n",
    "        tfp.layers.DistributionLambda(\n",
    "            lambda t: tfd.Normal(\n",
    "                loc=t[..., :1], scale=1e-3 + tf.math.softplus(0.01 * t[..., 1:])\n",
    "            )\n",
    "        ),\n",
    "    ]\n",
    ")\n",
    "\n",
    "# Do inference.\n",
    "model.compile(optimizer=tf.optimizers.Adam(learning_rate=0.01), loss=negloglik)\n",
    "model.fit(x_train, y_train, epochs=1000, verbose=False)\n",
    "\n",
    "# Profit.\n",
    "[print(np.squeeze(w.numpy())) for w in model.weights]\n",
    "yhat = model(x_test)\n",
    "assert isinstance(yhat, tfd.Distribution)"
   ]
  },
  {
   "cell_type": "code",
   "execution_count": null,
   "id": "06d951ac",
   "metadata": {
    "hidden": true
   },
   "outputs": [],
   "source": [
    "tf.keras.utils.plot_model(model)"
   ]
  },
  {
   "cell_type": "code",
   "execution_count": null,
   "id": "f97beea9",
   "metadata": {
    "hidden": true
   },
   "outputs": [],
   "source": [
    "plt.figure(figsize=[6, 4])\n",
    "plt.plot(x_train, y_train, \"c.\", label=\"train\")\n",
    "plt.plot(x_test, y_test, \"b.\", label=\"test\")\n",
    "\n",
    "yhats = [model(x_test) for _ in range(100)]\n",
    "avgm = np.zeros_like(x_test[..., 0])\n",
    "for i, yhat in enumerate(yhats):\n",
    "    m = np.squeeze(yhat.mean())\n",
    "    s = np.squeeze(yhat.stddev())\n",
    "    if i < 15:\n",
    "        plt.plot(\n",
    "            x_test, m, \"r\", label=\"ensemble means\" if i == 0 else None, linewidth=1.0\n",
    "        )\n",
    "        plt.plot(\n",
    "            x_test,\n",
    "            m + 2 * s,\n",
    "            \"g\",\n",
    "            linewidth=0.5,\n",
    "            label=\"ensemble means + 2 ensemble stdev\" if i == 0 else None,\n",
    "        )\n",
    "        plt.plot(\n",
    "            x_test,\n",
    "            m - 2 * s,\n",
    "            \"g\",\n",
    "            linewidth=0.5,\n",
    "            label=\"ensemble means - 2 ensemble stdev\" if i == 0 else None,\n",
    "        )\n",
    "    avgm += m\n",
    "plt.plot(x_test, avgm / len(yhats), \"r\", label=\"overall mean\", linewidth=2)\n",
    "\n",
    "ax = plt.gca()\n",
    "ax.xaxis.set_ticks_position(\"bottom\")\n",
    "ax.yaxis.set_ticks_position(\"left\")\n",
    "ax.spines[\"left\"].set_position((\"data\", 0))\n",
    "ax.spines[\"top\"].set_visible(False)\n",
    "ax.spines[\"right\"].set_visible(False)\n",
    "plt.legend(loc=\"center left\", fancybox=True, framealpha=0.0, bbox_to_anchor=(1.05, 0.5))\n",
    "plt.show()"
   ]
  },
  {
   "cell_type": "markdown",
   "id": "2d126a82",
   "metadata": {},
   "source": [
    "## Model with 2-dim Input (mean, std)"
   ]
  },
  {
   "cell_type": "code",
   "execution_count": 20,
   "id": "8ffcb8e1",
   "metadata": {},
   "outputs": [],
   "source": [
    "negloglik = lambda y, rv_y: -rv_y.log_prob(y)\n",
    "FEATURE_NAMES = [\"mean\", \"std\"]\n",
    "train_size = X_train.shape[0]\n",
    "# learning_rate = 0.001\n",
    "num_epochs = 1000\n",
    "batch_size = 1\n",
    "lower_bound = 0\n",
    "upper_bound = 2"
   ]
  },
  {
   "cell_type": "code",
   "execution_count": 21,
   "id": "341436f8",
   "metadata": {},
   "outputs": [],
   "source": [
    "# put data into tensor with respective batch size\n",
    "train_dataset = tf.data.Dataset.from_tensor_slices((dict(x_train), y_train)).batch(\n",
    "    batch_size=batch_size\n",
    ")\n",
    "test_dataset = tf.data.Dataset.from_tensor_slices((dict(x_test), y_test)).batch(\n",
    "    batch_size=batch_size\n",
    ")"
   ]
  },
  {
   "cell_type": "code",
   "execution_count": 22,
   "id": "fa6cef63",
   "metadata": {},
   "outputs": [],
   "source": [
    "std_emp = pd.Series(y_train.reshape(-1)).std()"
   ]
  },
  {
   "cell_type": "code",
   "execution_count": 23,
   "id": "56d6d89b",
   "metadata": {},
   "outputs": [],
   "source": [
    "def crps_score(y_true, y_pred):\n",
    "    y_true = tf.keras.backend.flatten(y_true)\n",
    "    y_pred = tf.keras.backend.flatten(y_pred)\n",
    "\n",
    "    # Create the cumulative density function for each prediction\n",
    "    #cdf = tfd.TruncatedNormal(loc=y_pred, scale=1.0, low=lower_bound, high=upper_bound).cdf\n",
    "    cdf = tfd.Gamma(concentration=(y_pred/std_emp)**2, rate=y_pred / std_emp**2).cdf\n",
    "\n",
    "    # Calculate the CRPS score for each prediction\n",
    "    crps = tf.reduce_mean(tf.square(cdf(y_true) - 0.5))\n",
    "\n",
    "    return crps"
   ]
  },
  {
   "cell_type": "code",
   "execution_count": 24,
   "id": "09320f7b",
   "metadata": {},
   "outputs": [],
   "source": [
    "# Specify the surrogate posterior over `keras.layers.Dense` `kernel` and `bias`.\n",
    "def posterior_mean_field(kernel_size, bias_size=0, dtype=None):\n",
    "    n = kernel_size + bias_size\n",
    "    c = np.log(np.expm1(1.0))\n",
    "    return tf.keras.Sequential(\n",
    "        [\n",
    "            tfp.layers.VariableLayer(2*n, dtype=dtype),\n",
    "            tfp.layers.DistributionLambda(\n",
    "                lambda t: tfd.Independent(\n",
    "                    tfd.Normal(\n",
    "                        loc=t[..., :n], scale=1e-5 + tf.nn.softplus(c + t[..., n:])\n",
    "                    ),\n",
    "                    reinterpreted_batch_ndims=1,\n",
    "                )\n",
    "            ),\n",
    "        ]\n",
    "    )"
   ]
  },
  {
   "cell_type": "code",
   "execution_count": 25,
   "id": "3ec18756",
   "metadata": {},
   "outputs": [],
   "source": [
    "# Specify the prior over `keras.layers.Dense` `kernel` and `bias`.\n",
    "def prior_trainable(kernel_size, bias_size=0, dtype=None):\n",
    "    n = kernel_size + bias_size\n",
    "    return tf.keras.Sequential(\n",
    "        [\n",
    "            tfp.layers.VariableLayer(n, dtype=dtype),\n",
    "            tfp.layers.DistributionLambda(\n",
    "                lambda t: tfd.Independent(\n",
    "                    tfd.Normal(loc=t, scale=0.1), reinterpreted_batch_ndims=1\n",
    "                )\n",
    "            ),\n",
    "        ]\n",
    "    )"
   ]
  },
  {
   "cell_type": "code",
   "execution_count": 26,
   "id": "6524f8dc",
   "metadata": {},
   "outputs": [],
   "source": [
    "# Define the prior weight distribution -- all N(0, 1) -- and not trainable\n",
    "def prior(kernel_size, bias_size, dtype=None):\n",
    "    n = kernel_size + bias_size\n",
    "    prior_model = tf.keras.models.Sequential(\n",
    "        [\n",
    "            tfp.layers.DistributionLambda(\n",
    "                lambda t: tfd.MultivariateNormalDiag(\n",
    "                    loc=tf.zeros(n), scale_diag=tf.ones(n)\n",
    "                )\n",
    "            )\n",
    "        ]\n",
    "    )\n",
    "    # lambda parameter t is not used in the Multivariate Distribution\n",
    "    return prior_model\n",
    "\n",
    "\n",
    "# Define variational posterior weight distribution -- multivariate Gaussian\n",
    "def posterior(kernel_size, bias_size, dtype=None):\n",
    "    n = kernel_size + bias_size\n",
    "    post_model = tf.keras.models.Sequential(\n",
    "        [\n",
    "            tfp.layers.VariableLayer(\n",
    "                tfp.layers.MultivariateNormalTriL.params_size(n), dtype=dtype\n",
    "            ),\n",
    "            tfp.layers.MultivariateNormalTriL(n),\n",
    "        ]\n",
    "    )\n",
    "    return post_model"
   ]
  },
  {
   "cell_type": "code",
   "execution_count": 27,
   "id": "cda70953",
   "metadata": {},
   "outputs": [],
   "source": [
    "def create_pbnn_model(num_units=64, initial_learning_rate=0.01, decrease_lr_after=20):\n",
    "    inputs = {}\n",
    "    #normalization = {}\n",
    "    dense_layers = {}\n",
    "    for feature_name in FEATURE_NAMES:\n",
    "        inputs[feature_name] = layers.Input(\n",
    "            name=feature_name, shape=(1,), dtype=tf.float32\n",
    "        )\n",
    "        #normalization[feature_name] = layers.BatchNormalization(name=feature_name + \"_normalization\")(inputs[feature_name])\n",
    "        dense_layers[feature_name] = tfp.layers.DenseVariational(\n",
    "            num_units,\n",
    "            posterior,\n",
    "            prior,\n",
    "            kl_weight=1 / x_train.shape[0],\n",
    "            activation=\"elu\",\n",
    "            name=feature_name + \"_variational\",\n",
    "        )(inputs[feature_name])\n",
    "\n",
    "    features = keras.layers.concatenate(list(dense_layers.values()), name=\"concatenate\")\n",
    "    distribution_params = layers.Dense(\n",
    "        units=2, activation=\"elu\", name=\"distribution_params\"\n",
    "    )(features)\n",
    "    outputs = tfp.layers.DistributionLambda(\n",
    "        # lambda t: tfp.distributions.TruncatedNormal(\n",
    "        #    loc=1e-3 + tf.math.softplus(0.05 * t[:, :1]),\n",
    "        #    scale=1e-3 + tf.math.softplus(0.05 * t[:, 1:]),\n",
    "        #    low=lower_bound,\n",
    "        #    high=upper_bound,\n",
    "        # ),\n",
    "        lambda t: tfp.distributions.Gamma(\n",
    "            concentration=1e-3 + tf.math.softplus(0.5 * t[:, 0:1]),\n",
    "            rate=1e-3 + tf.math.softplus(0.05 * t[:, 1:2]),\n",
    "        ),\n",
    "        name=\"output\",\n",
    "    )(distribution_params)\n",
    "\n",
    "    model = keras.Model(inputs=inputs, outputs=outputs)\n",
    "    optimizer = tf.optimizers.Adam(learning_rate=initial_learning_rate)\n",
    "    model.compile(optimizer=optimizer, loss=negloglik)\n",
    "\n",
    "    return model"
   ]
  },
  {
   "cell_type": "code",
   "execution_count": 28,
   "id": "cfff8d86",
   "metadata": {},
   "outputs": [
    {
     "name": "stdout",
     "output_type": "stream",
     "text": [
      "WARNING:tensorflow:From C:\\Users\\Ella\\AppData\\Local\\Programs\\Python\\Python38\\lib\\site-packages\\tensorflow_probability\\python\\distributions\\distribution.py:342: calling MultivariateNormalDiag.__init__ (from tensorflow_probability.python.distributions.mvn_diag) with scale_identity_multiplier is deprecated and will be removed after 2020-01-01.\n",
      "Instructions for updating:\n",
      "`scale_identity_multiplier` is deprecated; please combine it into `scale_diag` directly instead.\n"
     ]
    },
    {
     "data": {
      "image/png": "[encoded data removed]",
      "text/plain": [
       "<IPython.core.display.Image object>"
      ]
     },
     "execution_count": 28,
     "metadata": {},
     "output_type": "execute_result"
    }
   ],
   "source": [
    "model = create_pbnn_model()\n",
    "tf.keras.utils.plot_model(model)"
   ]
  },
  {
   "cell_type": "code",
   "execution_count": 29,
   "id": "3b03c26f",
   "metadata": {},
   "outputs": [
    {
     "name": "stdout",
     "output_type": "stream",
     "text": [
      "Model: \"model\"\n",
      "__________________________________________________________________________________________________\n",
      " Layer (type)                   Output Shape         Param #     Connected to                     \n",
      "==================================================================================================\n",
      " mean (InputLayer)              [(None, 1)]          0           []                               \n",
      "                                                                                                  \n",
      " std (InputLayer)               [(None, 1)]          0           []                               \n",
      "                                                                                                  \n",
      " mean_variational (DenseVariati  (None, 64)          8384        ['mean[0][0]']                   \n",
      " onal)                                                                                            \n",
      "                                                                                                  \n",
      " std_variational (DenseVariatio  (None, 64)          8384        ['std[0][0]']                    \n",
      " nal)                                                                                             \n",
      "                                                                                                  \n",
      " concatenate (Concatenate)      (None, 128)          0           ['mean_variational[0][0]',       \n",
      "                                                                  'std_variational[0][0]']        \n",
      "                                                                                                  \n",
      " distribution_params (Dense)    (None, 2)            258         ['concatenate[0][0]']            \n",
      "                                                                                                  \n",
      " output (DistributionLambda)    ((None, 1),          0           ['distribution_params[0][0]']    \n",
      "                                 (None, 1))                                                       \n",
      "                                                                                                  \n",
      "==================================================================================================\n",
      "Total params: 17,026\n",
      "Trainable params: 17,026\n",
      "Non-trainable params: 0\n",
      "__________________________________________________________________________________________________\n"
     ]
    }
   ],
   "source": [
    "model.summary()"
   ]
  },
  {
   "cell_type": "code",
   "execution_count": 30,
   "id": "c9aa449b",
   "metadata": {},
   "outputs": [],
   "source": [
    "def scheduler(epoch, lr):\n",
    "    if epoch < 20:\n",
    "        return lr\n",
    "    else:\n",
    "        return lr * tf.math.exp(-0.1)"
   ]
  },
  {
   "cell_type": "code",
   "execution_count": 31,
   "id": "3b429b16",
   "metadata": {},
   "outputs": [],
   "source": [
    "callback_lr_scheduler = callbacks.LearningRateScheduler(scheduler)\n",
    "callback_early_stopping = callbacks.EarlyStopping(monitor='val_loss', patience=20, restore_best_weights=True)"
   ]
  },
  {
   "cell_type": "code",
   "execution_count": 32,
   "id": "0ac3d068",
   "metadata": {
    "scrolled": true
   },
   "outputs": [
    {
     "name": "stdout",
     "output_type": "stream",
     "text": [
      "Epoch 1/1000\n",
      "297/297 [==============================] - 3s 5ms/step - loss: 0.2798 - val_loss: 0.4636 - lr: 0.0100\n",
      "Epoch 2/1000\n",
      "297/297 [==============================] - 1s 3ms/step - loss: 0.2111 - val_loss: 0.6937 - lr: 0.0100\n",
      "Epoch 3/1000\n",
      "297/297 [==============================] - 1s 3ms/step - loss: 0.2917 - val_loss: 0.7039 - lr: 0.0100\n",
      "Epoch 4/1000\n",
      "297/297 [==============================] - 1s 3ms/step - loss: 0.2961 - val_loss: 0.6014 - lr: 0.0100\n",
      "Epoch 5/1000\n",
      "297/297 [==============================] - 1s 3ms/step - loss: 0.2007 - val_loss: 0.6280 - lr: 0.0100\n",
      "Epoch 6/1000\n",
      "297/297 [==============================] - 1s 2ms/step - loss: 0.1891 - val_loss: 0.5111 - lr: 0.0100\n",
      "Epoch 7/1000\n",
      "297/297 [==============================] - 1s 3ms/step - loss: 0.1965 - val_loss: 0.5314 - lr: 0.0100\n",
      "Epoch 8/1000\n",
      "297/297 [==============================] - 1s 3ms/step - loss: 0.4648 - val_loss: 1.0690 - lr: 0.0100\n",
      "Epoch 9/1000\n",
      "297/297 [==============================] - 1s 3ms/step - loss: 0.5109 - val_loss: 0.6835 - lr: 0.0100\n",
      "Epoch 10/1000\n",
      "297/297 [==============================] - 1s 3ms/step - loss: 0.2323 - val_loss: 0.5324 - lr: 0.0100\n",
      "Epoch 11/1000\n",
      "297/297 [==============================] - 1s 3ms/step - loss: 0.1627 - val_loss: 0.6624 - lr: 0.0100\n",
      "Epoch 12/1000\n",
      "297/297 [==============================] - 1s 3ms/step - loss: 0.2562 - val_loss: 0.5548 - lr: 0.0100\n",
      "Epoch 13/1000\n",
      "297/297 [==============================] - 1s 3ms/step - loss: 0.1446 - val_loss: 0.4448 - lr: 0.0100\n",
      "Epoch 14/1000\n",
      "297/297 [==============================] - 1s 3ms/step - loss: 0.1325 - val_loss: 0.5314 - lr: 0.0100\n",
      "Epoch 15/1000\n",
      "297/297 [==============================] - 1s 3ms/step - loss: 0.5075 - val_loss: 0.9362 - lr: 0.0100\n",
      "Epoch 16/1000\n",
      "297/297 [==============================] - 1s 3ms/step - loss: 0.3551 - val_loss: 0.5451 - lr: 0.0100\n",
      "Epoch 17/1000\n",
      "297/297 [==============================] - 1s 3ms/step - loss: 0.5202 - val_loss: 0.7640 - lr: 0.0100\n",
      "Epoch 18/1000\n",
      "297/297 [==============================] - 1s 3ms/step - loss: 0.2857 - val_loss: 0.4762 - lr: 0.0100\n",
      "Epoch 19/1000\n",
      "297/297 [==============================] - 1s 3ms/step - loss: 0.1912 - val_loss: 0.4894 - lr: 0.0100\n",
      "Epoch 20/1000\n",
      "297/297 [==============================] - 1s 3ms/step - loss: 0.1293 - val_loss: 0.4574 - lr: 0.0100\n",
      "Epoch 21/1000\n",
      "297/297 [==============================] - 1s 3ms/step - loss: 0.0896 - val_loss: 0.4157 - lr: 0.0090\n",
      "Epoch 22/1000\n",
      "297/297 [==============================] - 1s 3ms/step - loss: 0.0844 - val_loss: 0.4358 - lr: 0.0082\n",
      "Epoch 23/1000\n",
      "297/297 [==============================] - 1s 3ms/step - loss: 0.0745 - val_loss: 0.4110 - lr: 0.0074\n",
      "Epoch 24/1000\n",
      "297/297 [==============================] - 1s 3ms/step - loss: 0.0620 - val_loss: 0.3863 - lr: 0.0067\n",
      "Epoch 25/1000\n",
      "297/297 [==============================] - 1s 3ms/step - loss: 0.0537 - val_loss: 0.3919 - lr: 0.0061\n",
      "Epoch 26/1000\n",
      "297/297 [==============================] - 1s 3ms/step - loss: 0.0631 - val_loss: 0.4276 - lr: 0.0055\n",
      "Epoch 27/1000\n",
      "297/297 [==============================] - 1s 3ms/step - loss: 0.0633 - val_loss: 0.3891 - lr: 0.0050\n",
      "Epoch 28/1000\n",
      "297/297 [==============================] - 1s 3ms/step - loss: 0.0744 - val_loss: 0.4665 - lr: 0.0045\n",
      "Epoch 29/1000\n",
      "297/297 [==============================] - 1s 3ms/step - loss: 0.0913 - val_loss: 0.4353 - lr: 0.0041\n",
      "Epoch 30/1000\n",
      "297/297 [==============================] - 1s 3ms/step - loss: 0.0594 - val_loss: 0.3855 - lr: 0.0037\n",
      "Epoch 31/1000\n",
      "297/297 [==============================] - 1s 3ms/step - loss: 0.0352 - val_loss: 0.3965 - lr: 0.0033\n",
      "Epoch 32/1000\n",
      "297/297 [==============================] - 1s 3ms/step - loss: 0.0707 - val_loss: 0.4032 - lr: 0.0030\n",
      "Epoch 33/1000\n",
      "297/297 [==============================] - 1s 3ms/step - loss: 0.0505 - val_loss: 0.3819 - lr: 0.0027\n",
      "Epoch 34/1000\n",
      "297/297 [==============================] - 1s 3ms/step - loss: 0.0353 - val_loss: 0.4153 - lr: 0.0025\n",
      "Epoch 35/1000\n",
      "297/297 [==============================] - 1s 3ms/step - loss: -0.0047 - val_loss: 0.2923 - lr: 0.0022\n",
      "Epoch 36/1000\n",
      "297/297 [==============================] - 1s 3ms/step - loss: -0.0607 - val_loss: 0.1851 - lr: 0.0020\n",
      "Epoch 37/1000\n",
      "297/297 [==============================] - 1s 3ms/step - loss: -0.1530 - val_loss: 0.0893 - lr: 0.0018\n",
      "Epoch 38/1000\n",
      "297/297 [==============================] - 1s 3ms/step - loss: -0.2098 - val_loss: 0.1149 - lr: 0.0017\n",
      "Epoch 39/1000\n",
      "297/297 [==============================] - 1s 3ms/step - loss: -0.2927 - val_loss: 0.0864 - lr: 0.0015\n",
      "Epoch 40/1000\n",
      "297/297 [==============================] - 1s 3ms/step - loss: -0.3232 - val_loss: 0.0807 - lr: 0.0014\n",
      "Epoch 41/1000\n",
      "297/297 [==============================] - 1s 3ms/step - loss: -0.3421 - val_loss: -0.0705 - lr: 0.0012\n",
      "Epoch 42/1000\n",
      "297/297 [==============================] - 1s 3ms/step - loss: -0.3625 - val_loss: 0.0340 - lr: 0.0011\n",
      "Epoch 43/1000\n",
      "297/297 [==============================] - 1s 3ms/step - loss: -0.3984 - val_loss: -0.0132 - lr: 0.0010\n",
      "Epoch 44/1000\n",
      "297/297 [==============================] - 1s 3ms/step - loss: -0.4095 - val_loss: 0.0213 - lr: 9.0718e-04\n",
      "Epoch 45/1000\n",
      "297/297 [==============================] - 1s 3ms/step - loss: -0.4250 - val_loss: -0.0675 - lr: 8.2085e-04\n",
      "Epoch 46/1000\n",
      "297/297 [==============================] - 1s 3ms/step - loss: -0.4349 - val_loss: -0.1007 - lr: 7.4274e-04\n",
      "Epoch 47/1000\n",
      "297/297 [==============================] - 1s 3ms/step - loss: -0.4398 - val_loss: -0.0695 - lr: 6.7206e-04\n",
      "Epoch 48/1000\n",
      "297/297 [==============================] - 1s 3ms/step - loss: -0.4448 - val_loss: -0.0818 - lr: 6.0810e-04\n",
      "Epoch 49/1000\n",
      "297/297 [==============================] - 1s 3ms/step - loss: -0.4686 - val_loss: -0.1322 - lr: 5.5023e-04\n",
      "Epoch 50/1000\n",
      "297/297 [==============================] - 1s 3ms/step - loss: -0.4646 - val_loss: -0.1135 - lr: 4.9787e-04\n",
      "Epoch 51/1000\n",
      "297/297 [==============================] - 1s 3ms/step - loss: -0.4702 - val_loss: -0.1684 - lr: 4.5049e-04\n",
      "Epoch 52/1000\n",
      "297/297 [==============================] - 1s 3ms/step - loss: -0.4744 - val_loss: -0.1393 - lr: 4.0762e-04\n",
      "Epoch 53/1000\n",
      "297/297 [==============================] - 1s 3ms/step - loss: -0.4818 - val_loss: -0.1941 - lr: 3.6883e-04\n",
      "Epoch 54/1000\n",
      "297/297 [==============================] - 1s 3ms/step - loss: -0.4721 - val_loss: -0.1918 - lr: 3.3373e-04\n",
      "Epoch 55/1000\n",
      "297/297 [==============================] - 1s 3ms/step - loss: -0.4932 - val_loss: -0.1808 - lr: 3.0197e-04\n",
      "Epoch 56/1000\n",
      "297/297 [==============================] - 1s 3ms/step - loss: -0.4879 - val_loss: -0.2422 - lr: 2.7324e-04\n",
      "Epoch 57/1000\n",
      "297/297 [==============================] - 1s 3ms/step - loss: -0.4952 - val_loss: -0.2456 - lr: 2.4724e-04\n",
      "Epoch 58/1000\n",
      "297/297 [==============================] - 1s 3ms/step - loss: -0.4962 - val_loss: -0.2370 - lr: 2.2371e-04\n",
      "Epoch 59/1000\n",
      "297/297 [==============================] - 1s 3ms/step - loss: -0.5046 - val_loss: -0.2140 - lr: 2.0242e-04\n",
      "Epoch 60/1000\n",
      "297/297 [==============================] - 1s 3ms/step - loss: -0.5060 - val_loss: -0.2555 - lr: 1.8316e-04\n",
      "Epoch 61/1000\n",
      "297/297 [==============================] - 1s 3ms/step - loss: -0.4950 - val_loss: -0.2568 - lr: 1.6573e-04\n",
      "Epoch 62/1000\n",
      "297/297 [==============================] - 1s 3ms/step - loss: -0.5022 - val_loss: -0.2681 - lr: 1.4996e-04\n",
      "Epoch 63/1000\n",
      "297/297 [==============================] - 1s 3ms/step - loss: -0.5101 - val_loss: -0.2786 - lr: 1.3569e-04\n",
      "Epoch 64/1000\n",
      "297/297 [==============================] - 1s 2ms/step - loss: -0.5109 - val_loss: -0.2513 - lr: 1.2277e-04\n",
      "Epoch 65/1000\n",
      "297/297 [==============================] - 1s 3ms/step - loss: -0.5162 - val_loss: -0.2333 - lr: 1.1109e-04\n",
      "Epoch 66/1000\n",
      "297/297 [==============================] - 1s 3ms/step - loss: -0.5077 - val_loss: -0.2567 - lr: 1.0052e-04\n",
      "Epoch 67/1000\n",
      "297/297 [==============================] - 1s 3ms/step - loss: -0.5168 - val_loss: -0.2881 - lr: 9.0953e-05\n",
      "Epoch 68/1000\n",
      "297/297 [==============================] - 1s 3ms/step - loss: -0.5365 - val_loss: -0.2998 - lr: 8.2298e-05\n",
      "Epoch 69/1000\n",
      "297/297 [==============================] - 1s 3ms/step - loss: -0.5170 - val_loss: -0.2521 - lr: 7.4466e-05\n",
      "Epoch 70/1000\n",
      "297/297 [==============================] - 1s 3ms/step - loss: -0.5149 - val_loss: -0.2659 - lr: 6.7380e-05\n",
      "Epoch 71/1000\n",
      "297/297 [==============================] - 1s 3ms/step - loss: -0.5264 - val_loss: -0.2510 - lr: 6.0968e-05\n",
      "Epoch 72/1000\n",
      "297/297 [==============================] - 1s 3ms/step - loss: -0.5217 - val_loss: -0.2557 - lr: 5.5166e-05\n",
      "Epoch 73/1000\n",
      "297/297 [==============================] - 1s 3ms/step - loss: -0.5312 - val_loss: -0.2368 - lr: 4.9916e-05\n",
      "Epoch 74/1000\n",
      "297/297 [==============================] - 1s 3ms/step - loss: -0.5174 - val_loss: -0.2835 - lr: 4.5166e-05\n",
      "Epoch 75/1000\n",
      "297/297 [==============================] - 1s 3ms/step - loss: -0.5389 - val_loss: -0.2631 - lr: 4.0868e-05\n",
      "Epoch 76/1000\n",
      "297/297 [==============================] - 1s 3ms/step - loss: -0.5275 - val_loss: -0.2902 - lr: 3.6979e-05\n",
      "Epoch 77/1000\n",
      "297/297 [==============================] - 1s 3ms/step - loss: -0.5274 - val_loss: -0.2686 - lr: 3.3460e-05\n",
      "Epoch 78/1000\n",
      "297/297 [==============================] - 1s 3ms/step - loss: -0.5212 - val_loss: -0.2655 - lr: 3.0276e-05\n",
      "Epoch 79/1000\n",
      "297/297 [==============================] - 1s 3ms/step - loss: -0.5266 - val_loss: -0.2965 - lr: 2.7394e-05\n",
      "Epoch 80/1000\n",
      "297/297 [==============================] - 1s 3ms/step - loss: -0.5286 - val_loss: -0.2591 - lr: 2.4788e-05\n",
      "Epoch 81/1000\n",
      "297/297 [==============================] - 1s 2ms/step - loss: -0.5204 - val_loss: -0.2752 - lr: 2.2429e-05\n",
      "Epoch 82/1000\n",
      "297/297 [==============================] - 1s 3ms/step - loss: -0.5265 - val_loss: -0.2907 - lr: 2.0294e-05\n",
      "Epoch 83/1000\n",
      "297/297 [==============================] - 1s 3ms/step - loss: -0.5290 - val_loss: -0.3041 - lr: 1.8363e-05\n",
      "Epoch 84/1000\n",
      "297/297 [==============================] - 1s 3ms/step - loss: -0.5269 - val_loss: -0.2723 - lr: 1.6616e-05\n",
      "Epoch 85/1000\n",
      "297/297 [==============================] - 1s 3ms/step - loss: -0.5382 - val_loss: -0.2841 - lr: 1.5034e-05\n",
      "Epoch 86/1000\n",
      "297/297 [==============================] - 1s 3ms/step - loss: -0.5286 - val_loss: -0.2569 - lr: 1.3604e-05\n",
      "Epoch 87/1000\n",
      "297/297 [==============================] - 1s 3ms/step - loss: -0.5325 - val_loss: -0.2739 - lr: 1.2309e-05\n",
      "Epoch 88/1000\n",
      "297/297 [==============================] - 1s 3ms/step - loss: -0.5399 - val_loss: -0.2788 - lr: 1.1138e-05\n",
      "Epoch 89/1000\n",
      "297/297 [==============================] - 1s 3ms/step - loss: -0.5334 - val_loss: -0.2854 - lr: 1.0078e-05\n",
      "Epoch 90/1000\n",
      "297/297 [==============================] - 1s 3ms/step - loss: -0.5190 - val_loss: -0.2790 - lr: 9.1188e-06\n",
      "Epoch 91/1000\n",
      "297/297 [==============================] - 1s 3ms/step - loss: -0.5287 - val_loss: -0.2816 - lr: 8.2511e-06\n",
      "Epoch 92/1000\n",
      "297/297 [==============================] - 1s 3ms/step - loss: -0.5204 - val_loss: -0.2664 - lr: 7.4659e-06\n",
      "Epoch 93/1000\n",
      "297/297 [==============================] - 1s 3ms/step - loss: -0.5305 - val_loss: -0.2852 - lr: 6.7554e-06\n",
      "Epoch 94/1000\n",
      "297/297 [==============================] - 1s 3ms/step - loss: -0.5311 - val_loss: -0.2778 - lr: 6.1125e-06\n",
      "Epoch 95/1000\n",
      "297/297 [==============================] - 1s 2ms/step - loss: -0.5412 - val_loss: -0.2690 - lr: 5.5308e-06\n",
      "Epoch 96/1000\n",
      "297/297 [==============================] - 1s 3ms/step - loss: -0.5291 - val_loss: -0.2777 - lr: 5.0045e-06\n",
      "Epoch 97/1000\n",
      "297/297 [==============================] - 1s 3ms/step - loss: -0.5265 - val_loss: -0.2956 - lr: 4.5283e-06\n",
      "Epoch 98/1000\n",
      "297/297 [==============================] - 1s 2ms/step - loss: -0.5366 - val_loss: -0.2934 - lr: 4.0974e-06\n",
      "Epoch 99/1000\n",
      "297/297 [==============================] - 1s 3ms/step - loss: -0.5403 - val_loss: -0.2584 - lr: 3.7074e-06\n",
      "Epoch 100/1000\n",
      "297/297 [==============================] - 1s 3ms/step - loss: -0.5349 - val_loss: -0.2890 - lr: 3.3546e-06\n",
      "Epoch 101/1000\n",
      "297/297 [==============================] - 1s 3ms/step - loss: -0.5276 - val_loss: -0.2999 - lr: 3.0354e-06\n",
      "Epoch 102/1000\n",
      "297/297 [==============================] - 1s 3ms/step - loss: -0.5320 - val_loss: -0.3059 - lr: 2.7465e-06\n",
      "Epoch 103/1000\n",
      "297/297 [==============================] - 1s 3ms/step - loss: -0.5286 - val_loss: -0.2650 - lr: 2.4852e-06\n",
      "Epoch 104/1000\n",
      "297/297 [==============================] - 1s 3ms/step - loss: -0.5311 - val_loss: -0.2678 - lr: 2.2487e-06\n",
      "Epoch 105/1000\n",
      "297/297 [==============================] - 1s 3ms/step - loss: -0.5346 - val_loss: -0.2692 - lr: 2.0347e-06\n",
      "Epoch 106/1000\n",
      "297/297 [==============================] - 1s 3ms/step - loss: -0.5322 - val_loss: -0.2982 - lr: 1.8411e-06\n",
      "Epoch 107/1000\n",
      "297/297 [==============================] - 1s 3ms/step - loss: -0.5448 - val_loss: -0.2616 - lr: 1.6659e-06\n",
      "Epoch 108/1000\n",
      "297/297 [==============================] - 1s 3ms/step - loss: -0.5354 - val_loss: -0.2880 - lr: 1.5073e-06\n",
      "Epoch 109/1000\n",
      "297/297 [==============================] - 1s 3ms/step - loss: -0.5350 - val_loss: -0.2814 - lr: 1.3639e-06\n",
      "Epoch 110/1000\n",
      "297/297 [==============================] - 1s 2ms/step - loss: -0.5277 - val_loss: -0.2601 - lr: 1.2341e-06\n",
      "Epoch 111/1000\n",
      "297/297 [==============================] - 1s 3ms/step - loss: -0.5382 - val_loss: -0.3070 - lr: 1.1167e-06\n",
      "Epoch 112/1000\n",
      "297/297 [==============================] - 1s 3ms/step - loss: -0.5286 - val_loss: -0.2700 - lr: 1.0104e-06\n",
      "Epoch 113/1000\n",
      "297/297 [==============================] - 1s 3ms/step - loss: -0.5334 - val_loss: -0.2770 - lr: 9.1424e-07\n",
      "Epoch 114/1000\n",
      "297/297 [==============================] - 1s 3ms/step - loss: -0.5300 - val_loss: -0.2810 - lr: 8.2724e-07\n",
      "Epoch 115/1000\n",
      "297/297 [==============================] - 1s 3ms/step - loss: -0.5356 - val_loss: -0.2798 - lr: 7.4852e-07\n",
      "Epoch 116/1000\n",
      "297/297 [==============================] - 1s 3ms/step - loss: -0.5364 - val_loss: -0.2623 - lr: 6.7729e-07\n",
      "Epoch 117/1000\n",
      "297/297 [==============================] - 1s 3ms/step - loss: -0.5327 - val_loss: -0.2885 - lr: 6.1284e-07\n",
      "Epoch 118/1000\n",
      "297/297 [==============================] - 1s 3ms/step - loss: -0.5370 - val_loss: -0.2881 - lr: 5.5452e-07\n",
      "Epoch 119/1000\n",
      "297/297 [==============================] - 1s 3ms/step - loss: -0.5234 - val_loss: -0.2948 - lr: 5.0175e-07\n",
      "Epoch 120/1000\n",
      "297/297 [==============================] - 1s 3ms/step - loss: -0.5293 - val_loss: -0.2868 - lr: 4.5400e-07\n",
      "Epoch 121/1000\n",
      "297/297 [==============================] - 1s 3ms/step - loss: -0.5319 - val_loss: -0.2617 - lr: 4.1080e-07\n",
      "Epoch 122/1000\n",
      "297/297 [==============================] - 1s 3ms/step - loss: -0.5364 - val_loss: -0.2590 - lr: 3.7170e-07\n",
      "Epoch 123/1000\n",
      "297/297 [==============================] - 1s 3ms/step - loss: -0.5320 - val_loss: -0.2537 - lr: 3.3633e-07\n",
      "Epoch 124/1000\n",
      "297/297 [==============================] - 1s 3ms/step - loss: -0.5334 - val_loss: -0.2661 - lr: 3.0433e-07\n",
      "Epoch 125/1000\n",
      "297/297 [==============================] - 1s 3ms/step - loss: -0.5238 - val_loss: -0.2823 - lr: 2.7536e-07\n",
      "Epoch 126/1000\n",
      "297/297 [==============================] - 1s 3ms/step - loss: -0.5235 - val_loss: -0.2917 - lr: 2.4916e-07\n",
      "Epoch 127/1000\n",
      "297/297 [==============================] - 1s 3ms/step - loss: -0.5312 - val_loss: -0.2815 - lr: 2.2545e-07\n",
      "Epoch 128/1000\n",
      "297/297 [==============================] - 1s 3ms/step - loss: -0.5301 - val_loss: -0.2891 - lr: 2.0400e-07\n",
      "Epoch 129/1000\n",
      "297/297 [==============================] - 1s 3ms/step - loss: -0.5304 - val_loss: -0.2687 - lr: 1.8458e-07\n",
      "Epoch 130/1000\n",
      "297/297 [==============================] - 1s 3ms/step - loss: -0.5322 - val_loss: -0.2808 - lr: 1.6702e-07\n",
      "Epoch 131/1000\n",
      "297/297 [==============================] - 1s 3ms/step - loss: -0.5304 - val_loss: -0.3016 - lr: 1.5112e-07\n"
     ]
    },
    {
     "data": {
      "text/plain": [
       "<keras.callbacks.History at 0x1587f971d60>"
      ]
     },
     "execution_count": 32,
     "metadata": {},
     "output_type": "execute_result"
    }
   ],
   "source": [
    "model.fit(\n",
    "    train_dataset,\n",
    "    epochs=num_epochs,\n",
    "    callbacks=[callback_lr_scheduler, callback_early_stopping],\n",
    "    verbose=True,\n",
    "    validation_data=test_dataset,\n",
    ")"
   ]
  },
  {
   "cell_type": "markdown",
   "id": "dfb348a0",
   "metadata": {},
   "source": [
    "### Hyperparameter tuning"
   ]
  },
  {
   "cell_type": "code",
   "execution_count": null,
   "id": "27f69cd9",
   "metadata": {},
   "outputs": [],
   "source": [
    "# Define the hyperparameters to tune\n",
    "num_units = [1, 16, 32, 64, 128]\n",
    "batch_sizes = [1, 2, 4, 8, 16, 32]\n",
    "learning_rates = [0.001, 0.005, 0.01]\n",
    "decrease_after = [10, 20, 30]\n",
    "\n",
    "# Define the search space for the hyperparameters\n",
    "search_space = {\n",
    "    \"num_units\": num_units,\n",
    "    \"batch_size\": batch_sizes,\n",
    "    \"learning_rate\": learning_rates,\n",
    "    \"decrease_after\": decrease_after,\n",
    "}"
   ]
  },
  {
   "cell_type": "code",
   "execution_count": null,
   "id": "a67676d3",
   "metadata": {},
   "outputs": [],
   "source": [
    "# Define the evaluation function for the hyperparameters\n",
    "def evaluate_hyperparams(num_units, batch_size, learning_rate, decrease_after):\n",
    "    # Unpack the hyperparameters\n",
    "    # num_units = int(hyperparams[:, 0][0])\n",
    "    # batch_size = int(hyperparams[:, 1][0])\n",
    "    # learning_rate = hyperparams[:, 2][0]\n",
    "    # decrease_after = int(hyperparams[:, 3][0])\n",
    "\n",
    "    # Compile the model with the current hyperparameters\n",
    "    model = create_pbnn_model(\n",
    "        num_units=num_units,\n",
    "        initial_learning_rate=learning_rate,\n",
    "        decrease_lr_after=decrease_after,\n",
    "    )\n",
    "\n",
    "    scheduler = (\n",
    "        lambda epoch, lr: lr if epoch < decrease_after else lr * tf.math.exp(-0.1)\n",
    "    )\n",
    "    callback_lr_scheduler = callbacks.LearningRateScheduler(scheduler)\n",
    "    callback_early_stopping = callbacks.EarlyStopping(\n",
    "        monitor=\"loss\", patience=20, restore_best_weights=True\n",
    "    )\n",
    "\n",
    "    # put data into tensor with respective batch size\n",
    "    train_dataset = tf.data.Dataset.from_tensor_slices((dict(x_train), y_train)).batch(\n",
    "        batch_size=batch_size\n",
    "    )\n",
    "    test_dataset = tf.data.Dataset.from_tensor_slices((dict(x_test), y_test)).batch(\n",
    "        batch_size=batch_size\n",
    "    )\n",
    "\n",
    "    # Train the model with the current hyperparameters\n",
    "    history = model.fit(\n",
    "        train_dataset,\n",
    "        epochs=200,\n",
    "        batch_size=batch_size,\n",
    "        callbacks=[callback_lr_scheduler, callback_early_stopping],\n",
    "        verbose=0,\n",
    "    )\n",
    "\n",
    "    # Evaluate the model on the validation set\n",
    "    loss = 0\n",
    "    for x, y in test_dataset:\n",
    "        loss += crps_score(y.astype(\"float32\"), model(x, training=False)).numpy().mean()\n",
    "    loss = loss / (len(y_test) / batch_size)\n",
    "\n",
    "    return loss"
   ]
  },
  {
   "cell_type": "code",
   "execution_count": null,
   "id": "ea8e4061",
   "metadata": {},
   "outputs": [],
   "source": [
    "from itertools import product\n",
    "from tensorflow.python.ops.numpy_ops import np_config\n",
    "np_config.enable_numpy_behavior()"
   ]
  },
  {
   "cell_type": "code",
   "execution_count": null,
   "id": "4133f661",
   "metadata": {
    "scrolled": true
   },
   "outputs": [],
   "source": [
    "keys, values = zip(*search_space.items())\n",
    "grid = [dict(zip(keys, p)) for p in product(*values)]\n",
    "\n",
    "for i, hp in enumerate(grid[0:150]):\n",
    "    print(i)\n",
    "    print(hp)\n",
    "    grid[i][\"loss\"] = evaluate_hyperparams(**hp)\n",
    "    print(grid[i][\"loss\"])"
   ]
  },
  {
   "cell_type": "code",
   "execution_count": null,
   "id": "6975a431",
   "metadata": {},
   "outputs": [],
   "source": [
    "import csv"
   ]
  },
  {
   "cell_type": "code",
   "execution_count": null,
   "id": "193bb9d0",
   "metadata": {},
   "outputs": [],
   "source": [
    "losses_150_270"
   ]
  },
  {
   "cell_type": "code",
   "execution_count": null,
   "id": "c186b590",
   "metadata": {},
   "outputs": [],
   "source": [
    "for i in np.arange(150,270,1):\n",
    "    grid[i][\"loss\"] = losses_150_270[i-150]"
   ]
  },
  {
   "cell_type": "code",
   "execution_count": null,
   "id": "e4d7ebe1",
   "metadata": {},
   "outputs": [],
   "source": [
    "grid"
   ]
  },
  {
   "cell_type": "code",
   "execution_count": null,
   "id": "293ae4b8",
   "metadata": {},
   "outputs": [],
   "source": [
    "myFile = open('otherFiles/grid_search_results.csv', 'w')\n",
    "writer = csv.writer(myFile)\n",
    "writer.writerow(['num_units', 'batch_size', 'learning_rate', 'decrease_after', 'loss'])\n",
    "for d in grid:\n",
    "    writer.writerow(d.values())\n",
    "myFile.close()"
   ]
  },
  {
   "cell_type": "code",
   "execution_count": null,
   "id": "670929d7",
   "metadata": {},
   "outputs": [],
   "source": [
    "grid_search_results = pd.read_csv('otherFiles/grid_search_results.csv')\n",
    "grid_search_results"
   ]
  },
  {
   "cell_type": "code",
   "execution_count": null,
   "id": "75716860",
   "metadata": {},
   "outputs": [],
   "source": [
    "grid_search_results.sort_values(\"loss\")"
   ]
  },
  {
   "cell_type": "code",
   "execution_count": null,
   "id": "10174fd3",
   "metadata": {
    "scrolled": true
   },
   "outputs": [],
   "source": [
    "from tensorcross.model_selection import GridSearchCV\n",
    "\n",
    "grid_search = GridSearchCV(\n",
    "    model_fn=create_pbnn_model,\n",
    "    param_grid=search_space,\n",
    "    n_folds=3,\n",
    "    verbose=1,\n",
    ")\n",
    "\n",
    "grid_search.fit(\n",
    "    dataset=train_dataset, epochs=100, verbose=0\n",
    ")\n",
    "\n",
    "grid_search.summary()"
   ]
  },
  {
   "cell_type": "code",
   "execution_count": null,
   "id": "309c17f9",
   "metadata": {},
   "outputs": [],
   "source": [
    "grid_search.results_[\"best_params\"]"
   ]
  },
  {
   "cell_type": "code",
   "execution_count": null,
   "id": "68b33e2e",
   "metadata": {},
   "outputs": [],
   "source": [
    "num_units = grid_search.results_[\"best_params\"][\"num_units\"] # 64\n",
    "learning_rate = grid_search.results_[\"best_params\"][\"initial_learning_rate\"] # 0.01\n",
    "\n",
    "# Compile the model with the current hyperparameters\n",
    "model = create_pbnn_model(num_units=num_units, initial_learning_rate=learning_rate)\n",
    "\n",
    "callback_lr_scheduler = callbacks.LearningRateScheduler(scheduler)\n",
    "callback_early_stopping = callbacks.EarlyStopping(monitor='val_loss', patience=50, restore_best_weights=True)\n",
    "\n",
    "# Train the model with the current hyperparameters\n",
    "history = model.fit(\n",
    "    train_dataset,\n",
    "    epochs=500,\n",
    "    callbacks=[callback_lr_scheduler, callback_early_stopping],\n",
    "    verbose=2,\n",
    "    validation_data=test_dataset\n",
    ")"
   ]
  },
  {
   "cell_type": "code",
   "execution_count": null,
   "id": "5890010f",
   "metadata": {
    "scrolled": true
   },
   "outputs": [],
   "source": [
    "# Perform the Bayesian optimization\n",
    "bo = GPyOpt.methods.BayesianOptimization(\n",
    "    f=evaluate_hyperparams,\n",
    "    domain=search_space,\n",
    "    normalize_Y=False,\n",
    ")\n",
    "\n",
    "# Run the optimization\n",
    "bo.run_optimization(max_iter=200, verbosity=True)"
   ]
  },
  {
   "cell_type": "code",
   "execution_count": null,
   "id": "10e81822",
   "metadata": {},
   "outputs": [],
   "source": [
    "# Get the best hyperparameters found by the optimization\n",
    "best_hyperparams = bo.x_opt\n",
    "for i in range(4):\n",
    "    print(search_space[i][\"name\"], \":\\t\", best_hyperparams[i])"
   ]
  },
  {
   "cell_type": "code",
   "execution_count": null,
   "id": "adcb3a48",
   "metadata": {},
   "outputs": [],
   "source": [
    "num_units = int(best_hyperparams[0]) # 32\n",
    "batch_size = int(best_hyperparams[1]) #32\n",
    "learning_rate = best_hyperparams[2] # 0.01\n",
    "decrease_after = int(best_hyperparams[3]) # 20\n",
    "\n",
    "# Compile the model with the current hyperparameters\n",
    "model = create_pbnn_model(num_units=num_units)\n",
    "optimizer = tf.optimizers.Adam(learning_rate=learning_rate)\n",
    "model.compile(optimizer=optimizer, loss=crps_score)\n",
    "\n",
    "# put data into tensor with respective batch size\n",
    "train_dataset = tf.data.Dataset.from_tensor_slices((dict(x_train), y_train)).batch(\n",
    "    batch_size=batch_size\n",
    ")\n",
    "test_dataset = tf.data.Dataset.from_tensor_slices((dict(x_test), y_test)).batch(\n",
    "    batch_size=batch_size\n",
    ")\n",
    "\n",
    "scheduler = lambda epoch, lr: lr if epoch < decrease_after else lr * tf.math.exp(-0.1)\n",
    "callback_lr_scheduler = callbacks.LearningRateScheduler(scheduler)\n",
    "callback_early_stopping = callbacks.EarlyStopping(monitor='val_loss', patience=50, restore_best_weights=True)\n",
    "\n",
    "# Train the model with the current hyperparameters\n",
    "history = model.fit(\n",
    "    train_dataset,\n",
    "    epochs=500,\n",
    "    callbacks=[callback_lr_scheduler, callback_early_stopping],\n",
    "    verbose=2,\n",
    "    validation_data=test_dataset\n",
    ")"
   ]
  },
  {
   "cell_type": "markdown",
   "id": "26acd011",
   "metadata": {},
   "source": [
    "### Plots"
   ]
  },
  {
   "cell_type": "code",
   "execution_count": 33,
   "id": "9614e95a",
   "metadata": {},
   "outputs": [
    {
     "data": {
      "image/png": "[encoded data removed]",
      "text/plain": [
       "<Figure size 432x288 with 1 Axes>"
      ]
     },
     "metadata": {
      "needs_background": "light"
     },
     "output_type": "display_data"
    }
   ],
   "source": [
    "plt.figure(figsize=[6, 4])\n",
    "plt.plot(x_mean_train, y_train, \"c.\", label=\"train\")\n",
    "plt.plot(x_mean_test, y_test, \"b.\", label=\"test\")\n",
    "\n",
    "yhats = [model([x_mean_test, x_std_test]) for _ in range(100)]\n",
    "for i, yhat in enumerate(yhats):\n",
    "    m = np.squeeze(yhat.mean())\n",
    "    ql = np.squeeze(yhat.quantile(0.025))\n",
    "    qu = np.squeeze(yhat.quantile(0.975))\n",
    "    if i < 20:\n",
    "        plt.plot(\n",
    "            x_mean_test,\n",
    "            m,\n",
    "            \"r\",\n",
    "            label=\"ensemble means\" if i == 0 else None,\n",
    "            linewidth=1.0\n",
    "        )\n",
    "        plt.plot(\n",
    "            x_mean_test,\n",
    "            ql,\n",
    "            \"g\",\n",
    "            linewidth=0.5,\n",
    "            label=\"ensemble 2.5% quantile\" if i == 0 else None,\n",
    "        )\n",
    "        plt.plot(\n",
    "            x_mean_test,\n",
    "            qu,\n",
    "            \"g\",\n",
    "            linewidth=0.5,\n",
    "            label=\"ensemble 97.5% quantile\" if i == 0 else None,\n",
    "        )\n",
    "\n",
    "ax = plt.gca()\n",
    "ax.xaxis.set_ticks_position(\"bottom\")\n",
    "ax.yaxis.set_ticks_position(\"left\")\n",
    "ax.spines[\"left\"].set_position((\"data\", 0))\n",
    "ax.spines[\"top\"].set_visible(False)\n",
    "ax.spines[\"right\"].set_visible(False)\n",
    "plt.legend(loc=\"center left\", fancybox=True, framealpha=0.0, bbox_to_anchor=(1.05, 0.5))\n",
    "plt.show()"
   ]
  },
  {
   "cell_type": "code",
   "execution_count": 34,
   "id": "9fe77d66",
   "metadata": {},
   "outputs": [
    {
     "data": {
      "image/png": "[encoded data removed]",
      "text/plain": [
       "<Figure size 432x288 with 1 Axes>"
      ]
     },
     "metadata": {
      "needs_background": "light"
     },
     "output_type": "display_data"
    }
   ],
   "source": [
    "x = np.linspace(0, 1, 40)\n",
    "yhat_dist = model([x, np.ones(len(x))])\n",
    "\n",
    "plt.figure(figsize=[6, 4])\n",
    "plt.plot(x, x, \"b\", label=\"x\")\n",
    "plt.plot(x, yhat_dist.quantile(0.5)[:, 0], \"r\", label=\"0.5\")\n",
    "plt.plot(x, yhat_dist.quantile(0.025)[:, 0], \"g\", label=r\"0.025\")\n",
    "plt.plot(x, yhat_dist.quantile(0.975)[:, 0], \"g\", label=r\"0.975\")\n",
    "plt.legend(loc=\"center left\", fancybox=True, framealpha=0.0, bbox_to_anchor=(1.05, 0.5))\n",
    "plt.show()"
   ]
  },
  {
   "cell_type": "markdown",
   "id": "1722507b",
   "metadata": {},
   "source": [
    "### Forecast"
   ]
  },
  {
   "cell_type": "code",
   "execution_count": 35,
   "id": "defceccc",
   "metadata": {},
   "outputs": [],
   "source": [
    "ensemble_forecast = fc_raw.loc[target_horizons, :].reset_index()\n",
    "x_mean_fc = np.array(ensemble_forecast[\"mean\"] / mean_max).reshape(-1,1)\n",
    "x_std_fc = np.array(ensemble_forecast[\"std\"] / std_max).reshape(-1,1)"
   ]
  },
  {
   "cell_type": "code",
   "execution_count": 36,
   "id": "6a93d172",
   "metadata": {},
   "outputs": [],
   "source": [
    "yhats = [model([x_mean_fc, x_std_fc]) for _ in range(100)]\n",
    "q0025 = np.array([yhat.quantile(0.025)[:,0] for yhat in yhats])\n",
    "q025 = np.array([yhat.quantile(0.25)[:,0] for yhat in yhats])\n",
    "q05 = np.array([yhat.quantile(0.5)[:,0] for yhat in yhats])\n",
    "q075 = np.array([yhat.quantile(0.75)[:,0] for yhat in yhats])\n",
    "q0975 = np.array([yhat.quantile(0.975)[:,0] for yhat in yhats])"
   ]
  },
  {
   "cell_type": "code",
   "execution_count": 37,
   "id": "e455d5b4",
   "metadata": {
    "scrolled": true
   },
   "outputs": [
    {
     "data": {
      "text/html": [
       "<div>\n",
       "<style scoped>\n",
       "    .dataframe tbody tr th:only-of-type {\n",
       "        vertical-align: middle;\n",
       "    }\n",
       "\n",
       "    .dataframe tbody tr th {\n",
       "        vertical-align: top;\n",
       "    }\n",
       "\n",
       "    .dataframe thead th {\n",
       "        text-align: right;\n",
       "    }\n",
       "</style>\n",
       "<table border=\"1\" class=\"dataframe\">\n",
       "  <thead>\n",
       "    <tr style=\"text-align: right;\">\n",
       "      <th></th>\n",
       "      <th>forecast_date</th>\n",
       "      <th>target</th>\n",
       "      <th>horizon</th>\n",
       "      <th>q0.025</th>\n",
       "      <th>q0.25</th>\n",
       "      <th>q0.5</th>\n",
       "      <th>q0.75</th>\n",
       "      <th>q0.975</th>\n",
       "    </tr>\n",
       "  </thead>\n",
       "  <tbody>\n",
       "    <tr>\n",
       "      <th>0</th>\n",
       "      <td>2023-02-15</td>\n",
       "      <td>wind</td>\n",
       "      <td>36 hour</td>\n",
       "      <td>0.511569</td>\n",
       "      <td>1.994004</td>\n",
       "      <td>3.469808</td>\n",
       "      <td>5.557165</td>\n",
       "      <td>11.482829</td>\n",
       "    </tr>\n",
       "    <tr>\n",
       "      <th>1</th>\n",
       "      <td>2023-02-15</td>\n",
       "      <td>wind</td>\n",
       "      <td>48 hour</td>\n",
       "      <td>0.522858</td>\n",
       "      <td>1.993238</td>\n",
       "      <td>3.442955</td>\n",
       "      <td>5.484480</td>\n",
       "      <td>11.256970</td>\n",
       "    </tr>\n",
       "    <tr>\n",
       "      <th>2</th>\n",
       "      <td>2023-02-15</td>\n",
       "      <td>wind</td>\n",
       "      <td>60 hour</td>\n",
       "      <td>0.861450</td>\n",
       "      <td>2.635914</td>\n",
       "      <td>4.220932</td>\n",
       "      <td>6.353220</td>\n",
       "      <td>12.128258</td>\n",
       "    </tr>\n",
       "    <tr>\n",
       "      <th>3</th>\n",
       "      <td>2023-02-15</td>\n",
       "      <td>wind</td>\n",
       "      <td>72 hour</td>\n",
       "      <td>0.734555</td>\n",
       "      <td>2.419819</td>\n",
       "      <td>3.975942</td>\n",
       "      <td>6.102118</td>\n",
       "      <td>11.946858</td>\n",
       "    </tr>\n",
       "    <tr>\n",
       "      <th>4</th>\n",
       "      <td>2023-02-15</td>\n",
       "      <td>wind</td>\n",
       "      <td>84 hour</td>\n",
       "      <td>0.912010</td>\n",
       "      <td>2.708871</td>\n",
       "      <td>4.292580</td>\n",
       "      <td>6.409708</td>\n",
       "      <td>12.108692</td>\n",
       "    </tr>\n",
       "  </tbody>\n",
       "</table>\n",
       "</div>"
      ],
      "text/plain": [
       "  forecast_date target  horizon    q0.025     q0.25      q0.5     q0.75  \\\n",
       "0    2023-02-15   wind  36 hour  0.511569  1.994004  3.469808  5.557165   \n",
       "1    2023-02-15   wind  48 hour  0.522858  1.993238  3.442955  5.484480   \n",
       "2    2023-02-15   wind  60 hour  0.861450  2.635914  4.220932  6.353220   \n",
       "3    2023-02-15   wind  72 hour  0.734555  2.419819  3.975942  6.102118   \n",
       "4    2023-02-15   wind  84 hour  0.912010  2.708871  4.292580  6.409708   \n",
       "\n",
       "      q0.975  \n",
       "0  11.482829  \n",
       "1  11.256970  \n",
       "2  12.128258  \n",
       "3  11.946858  \n",
       "4  12.108692  "
      ]
     },
     "execution_count": 37,
     "metadata": {},
     "output_type": "execute_result"
    }
   ],
   "source": [
    "df_sub = pd.DataFrame({\n",
    "    \"forecast_date\": datetime.today().strftime(\"%Y-%m-%d\"),\n",
    "    \"target\": \"wind\",\n",
    "    \"horizon\": [str(i) + \" hour\" for i in target_horizons],\n",
    "    \"q0.025\": q0025.mean(axis=0) * y_max,\n",
    "    \"q0.25\": q025.mean(axis=0) * y_max,\n",
    "    \"q0.5\": q05.mean(axis=0) * y_max,\n",
    "    \"q0.75\": q075.mean(axis=0) * y_max,\n",
    "    \"q0.975\": q0975.mean(axis=0) * y_max})\n",
    "df_sub"
   ]
  },
  {
   "cell_type": "code",
   "execution_count": 38,
   "id": "6570afa4",
   "metadata": {},
   "outputs": [
    {
     "data": {
      "text/html": [
       "<div>\n",
       "<style scoped>\n",
       "    .dataframe tbody tr th:only-of-type {\n",
       "        vertical-align: middle;\n",
       "    }\n",
       "\n",
       "    .dataframe tbody tr th {\n",
       "        vertical-align: top;\n",
       "    }\n",
       "\n",
       "    .dataframe thead th {\n",
       "        text-align: right;\n",
       "    }\n",
       "</style>\n",
       "<table border=\"1\" class=\"dataframe\">\n",
       "  <thead>\n",
       "    <tr style=\"text-align: right;\">\n",
       "      <th></th>\n",
       "      <th>mean</th>\n",
       "      <th>std</th>\n",
       "    </tr>\n",
       "    <tr>\n",
       "      <th>fcst_hour</th>\n",
       "      <th></th>\n",
       "      <th></th>\n",
       "    </tr>\n",
       "  </thead>\n",
       "  <tbody>\n",
       "    <tr>\n",
       "      <th>36</th>\n",
       "      <td>11.50750</td>\n",
       "      <td>2.039267</td>\n",
       "    </tr>\n",
       "    <tr>\n",
       "      <th>48</th>\n",
       "      <td>11.27125</td>\n",
       "      <td>4.442394</td>\n",
       "    </tr>\n",
       "    <tr>\n",
       "      <th>60</th>\n",
       "      <td>19.41250</td>\n",
       "      <td>5.126966</td>\n",
       "    </tr>\n",
       "    <tr>\n",
       "      <th>72</th>\n",
       "      <td>16.72875</td>\n",
       "      <td>3.878202</td>\n",
       "    </tr>\n",
       "    <tr>\n",
       "      <th>84</th>\n",
       "      <td>20.32975</td>\n",
       "      <td>6.322501</td>\n",
       "    </tr>\n",
       "  </tbody>\n",
       "</table>\n",
       "</div>"
      ],
      "text/plain": [
       "               mean       std\n",
       "fcst_hour                    \n",
       "36         11.50750  2.039267\n",
       "48         11.27125  4.442394\n",
       "60         19.41250  5.126966\n",
       "72         16.72875  3.878202\n",
       "84         20.32975  6.322501"
      ]
     },
     "execution_count": 38,
     "metadata": {},
     "output_type": "execute_result"
    }
   ],
   "source": [
    "fc_raw.loc[target_horizons, :]"
   ]
  },
  {
   "cell_type": "code",
   "execution_count": 39,
   "id": "5e54e776",
   "metadata": {},
   "outputs": [],
   "source": [
    "df_sub.to_csv(\"otherFiles/\"+today+\"_wind_pbnn.csv\", index=False)"
   ]
  },
  {
   "cell_type": "markdown",
   "id": "ff17c7a3",
   "metadata": {
    "heading_collapsed": true
   },
   "source": [
    "## First PBNN Approach (Keras Tutorial)"
   ]
  },
  {
   "cell_type": "code",
   "execution_count": null,
   "id": "8f53f896",
   "metadata": {
    "hidden": true
   },
   "outputs": [],
   "source": [
    "def run_experiment(model, loss, train_dataset, test_dataset):\n",
    "\n",
    "    model.compile(\n",
    "        optimizer=keras.optimizers.RMSprop(learning_rate=learning_rate),\n",
    "        loss=loss,\n",
    "        metrics=[keras.metrics.RootMeanSquaredError()],\n",
    "    )\n",
    "\n",
    "    print(\"Start training the model...\")\n",
    "    model.fit(train_dataset, epochs=num_epochs, validation_data=test_dataset)\n",
    "    print(\"Model training finished.\")\n",
    "    _, rmse = model.evaluate(train_dataset, verbose=0)\n",
    "    print(f\"Train RMSE: {round(rmse, 3)}\")\n",
    "\n",
    "    print(\"Evaluating model performance...\")\n",
    "    _, rmse = model.evaluate(test_dataset, verbose=0)\n",
    "    print(f\"Test RMSE: {round(rmse, 3)}\")"
   ]
  },
  {
   "cell_type": "code",
   "execution_count": null,
   "id": "51c67d22",
   "metadata": {
    "hidden": true
   },
   "outputs": [],
   "source": [
    "def create_model_inputs():\n",
    "    inputs = {}\n",
    "    for feature_name in FEATURE_NAMES:\n",
    "        inputs[feature_name] = layers.Input(\n",
    "            name=feature_name, shape=(1,), dtype=tf.float32\n",
    "        )\n",
    "    return inputs"
   ]
  },
  {
   "cell_type": "code",
   "execution_count": null,
   "id": "2a46a7bd",
   "metadata": {
    "hidden": true
   },
   "outputs": [],
   "source": [
    "# Define the prior weight distribution as Normal of mean=0 and stddev=1.\n",
    "# Note that, in this example, the prior distribution is not trainable,\n",
    "# as we fix its parameters.\n",
    "def prior(kernel_size, bias_size, dtype=None):\n",
    "    n = kernel_size + bias_size\n",
    "    prior_model = keras.Sequential(\n",
    "        [\n",
    "            tfp.layers.DistributionLambda(\n",
    "                lambda t: tfp.distributions.MultivariateNormalDiag(\n",
    "                    loc=tf.zeros(n), scale_diag=tf.ones(n)\n",
    "                )\n",
    "            )\n",
    "        ]\n",
    "    )\n",
    "    return prior_model\n",
    "\n",
    "\n",
    "# Define variational posterior weight distribution as multivariate Gaussian.\n",
    "# Note that the learnable parameters for this distribution are the means,\n",
    "# variances, and covariances.\n",
    "def posterior(kernel_size, bias_size, dtype=None):\n",
    "    n = kernel_size + bias_size\n",
    "    posterior_model = keras.Sequential(\n",
    "        [\n",
    "            tfp.layers.VariableLayer(\n",
    "                tfp.layers.MultivariateNormalTriL.params_size(n), dtype=dtype\n",
    "            ),\n",
    "            tfp.layers.MultivariateNormalTriL(n),\n",
    "        ]\n",
    "    )\n",
    "    return posterior_model"
   ]
  },
  {
   "cell_type": "code",
   "execution_count": null,
   "id": "07ae8559",
   "metadata": {
    "hidden": true
   },
   "outputs": [],
   "source": [
    "def create_probablistic_bnn_model(train_size):\n",
    "    inputs = create_model_inputs()\n",
    "    features = keras.layers.concatenate(list(inputs.values()))\n",
    "    features = layers.BatchNormalization()(features)\n",
    "\n",
    "    # Create hidden layers with weight uncertainty using the DenseVariational layer.\n",
    "    for units in hidden_units:\n",
    "        features = tfp.layers.DenseVariational(\n",
    "            units=units,\n",
    "            make_prior_fn=prior,\n",
    "            make_posterior_fn=posterior,\n",
    "            kl_weight=1 / train_size,\n",
    "            activation=\"sigmoid\",\n",
    "        )(features)\n",
    "\n",
    "    # Create a probabilisticå output (Normal distribution), and use the `Dense` layer\n",
    "    # to produce the parameters of the distribution.\n",
    "    # We set units=2 to learn both the mean and the variance of the Normal distribution.\n",
    "    distribution_params = layers.Dense(units=2)(features)\n",
    "    outputs = tfp.layers.IndependentNormal(1)(distribution_params)\n",
    "\n",
    "    model = keras.Model(inputs=inputs, outputs=outputs)\n",
    "    return model"
   ]
  },
  {
   "cell_type": "code",
   "execution_count": null,
   "id": "1103ee85",
   "metadata": {
    "hidden": true,
    "scrolled": false
   },
   "outputs": [],
   "source": [
    "#prob_bnn_model = create_probablistic_bnn_model(train_size)\n",
    "#tf.keras.utils.plot_model(prob_bnn_model, to_file=\"pbnn_model1.png\")"
   ]
  },
  {
   "cell_type": "code",
   "execution_count": null,
   "id": "dc8d31fd",
   "metadata": {
    "hidden": true
   },
   "outputs": [],
   "source": [
    "inputs = {}\n",
    "dense_layers = {}\n",
    "for feature_name in FEATURE_NAMES:\n",
    "    inputs[feature_name] = layers.Input(\n",
    "        name=feature_name, shape=(1,), dtype=tf.float32\n",
    "    )\n",
    "    normalization = layers.BatchNormalization()(inputs[feature_name])\n",
    "    dense_layers[feature_name] = tfp.layers.DenseVariational(\n",
    "        units=64,\n",
    "        make_prior_fn=prior,\n",
    "        make_posterior_fn=posterior,\n",
    "        kl_weight=1 / train_size,\n",
    "        activation=\"sigmoid\",\n",
    "    )(normalization)\n",
    "\n",
    "features = keras.layers.concatenate(list(dense_layers.values()))\n",
    "\n",
    "# Create a probabilistic output (Normal distribution), and use the `Dense` layer to produce the parameters of the distribution.\n",
    "# Set units=2 to learn both the mean and the variance of the Normal distribution.\n",
    "distribution_params = layers.Dense(units=2)(features)\n",
    "# outputs = tfp.layers.IndependentNormal(1)(distribution_params)\n",
    "outputs = tfp.layers.DistributionLambda(\n",
    "    lambda t: tfp.distributions.TruncatedNormal(\n",
    "        loc=1e-3 + tf.math.softplus(0.05 * t[:, 0:1]),\n",
    "        scale=1e-3 + tf.math.softplus(0.05 * t[:, 1:2]),\n",
    "        low=0,\n",
    "        high=1000,\n",
    "    )\n",
    ")(distribution_params)\n",
    "\n",
    "prob_bnn_model = keras.Model(inputs=inputs, outputs=outputs)\n",
    "tf.keras.utils.plot_model(prob_bnn_model, to_file=\"pbnn_model2.png\")"
   ]
  },
  {
   "cell_type": "code",
   "execution_count": null,
   "id": "30ee2084",
   "metadata": {
    "hidden": true
   },
   "outputs": [],
   "source": [
    "def negative_loglikelihood(targets, estimated_distribution):\n",
    "    return -estimated_distribution.log_prob(targets)"
   ]
  },
  {
   "cell_type": "code",
   "execution_count": null,
   "id": "1ca224d9",
   "metadata": {
    "hidden": true,
    "scrolled": true
   },
   "outputs": [],
   "source": [
    "run_experiment(prob_bnn_model, negative_loglikelihood, train_dataset, test_dataset)"
   ]
  },
  {
   "cell_type": "code",
   "execution_count": null,
   "id": "dd3b3b18",
   "metadata": {
    "hidden": true
   },
   "outputs": [],
   "source": [
    "ensemble_forecast = fc_raw.loc[target_horizons, :].reset_index()\n",
    "ensemble_forecast = {\n",
    "    #\"fcst_hour\": tf.convert_to_tensor(ensemble_forecast.loc[:, \"fcst_hour\"]),\n",
    "    \"mean\": tf.convert_to_tensor(ensemble_forecast.loc[:, \"mean\"]),\n",
    "    \"std\": tf.convert_to_tensor(ensemble_forecast.loc[:, \"std\"]),\n",
    "}"
   ]
  },
  {
   "cell_type": "code",
   "execution_count": null,
   "id": "70b93f91",
   "metadata": {
    "hidden": true
   },
   "outputs": [],
   "source": [
    "prediction_distribution = prob_bnn_model(ensemble_forecast)\n",
    "prediction_mean = prediction_distribution.mean().numpy().tolist()\n",
    "prediction_stdv = prediction_distribution.stddev().numpy()\n",
    "\n",
    "# The 95% CI is computed as mean ± (1.96 * stdv)\n",
    "upper = (prediction_mean + (1.96 * prediction_stdv)).tolist()\n",
    "lower = (prediction_mean - (1.96 * prediction_stdv)).tolist()\n",
    "prediction_stdv = prediction_stdv.tolist()"
   ]
  },
  {
   "cell_type": "code",
   "execution_count": null,
   "id": "9c78aefe",
   "metadata": {
    "hidden": true
   },
   "outputs": [],
   "source": [
    "myclip_a = 0\n",
    "myclip_b = 1000#float(\"inf\")\n",
    "\n",
    "predictions = np.zeros((5,5))\n",
    "\n",
    "for i in range(5):\n",
    "    loc = prediction_mean[i][0]\n",
    "    scale = prediction_stdv[i][0] ** 2\n",
    "    a, b = (myclip_a - loc) / scale, (myclip_b - loc) / scale\n",
    "    predictions[i,:] = truncnorm.ppf([0.025, 0.25, 0.5, 0.75, 0.975], a, b, loc=loc, scale=scale)"
   ]
  },
  {
   "cell_type": "code",
   "execution_count": null,
   "id": "d553d136",
   "metadata": {
    "hidden": true
   },
   "outputs": [],
   "source": [
    "predictions"
   ]
  },
  {
   "cell_type": "code",
   "execution_count": null,
   "id": "67fc0e53",
   "metadata": {
    "hidden": true
   },
   "outputs": [],
   "source": [
    "fc_raw.loc[target_horizons, :]"
   ]
  },
  {
   "cell_type": "code",
   "execution_count": null,
   "id": "91551894",
   "metadata": {
    "hidden": true
   },
   "outputs": [],
   "source": [
    "df_sub = pd.DataFrame({\n",
    "    \"forecast_date\": datetime.today().strftime(\"%Y-%m-%d\"),\n",
    "    \"target\": \"wind\",\n",
    "    \"horizon\": [str(i) + \" hour\" for i in target_horizons],\n",
    "    \"q0.025\": predictions[:,0],\n",
    "    \"q0.25\": predictions[:,1],\n",
    "    \"q0.5\": predictions[:,2],\n",
    "    \"q0.75\": predictions[:,3],\n",
    "    \"q0.975\": predictions[:,4]})\n",
    "df_sub"
   ]
  },
  {
   "cell_type": "code",
   "execution_count": null,
   "id": "bb2316c8",
   "metadata": {
    "hidden": true
   },
   "outputs": [],
   "source": [
    "x = np.linspace(0,1,100)\n",
    "plt.plot(x, tfd.Gamma(concentration=(0.5/0.3)**2, rate=0.5 / 0.3**2).prob(x))\n",
    "plt.show()"
   ]
  },
  {
   "cell_type": "code",
   "execution_count": null,
   "id": "086fb670",
   "metadata": {
    "hidden": true
   },
   "outputs": [],
   "source": [
    "plt.hist(y_train)\n",
    "plt.show()"
   ]
  },
  {
   "cell_type": "code",
   "execution_count": null,
   "id": "62328a71",
   "metadata": {
    "hidden": true
   },
   "outputs": [],
   "source": [
    "from scipy.stats import truncnorm, gamma"
   ]
  },
  {
   "cell_type": "code",
   "execution_count": null,
   "id": "72aba35a",
   "metadata": {
    "hidden": true
   },
   "outputs": [],
   "source": []
  }
 ],
 "metadata": {
  "kernelspec": {
   "display_name": "Python 3 (ipykernel)",
   "language": "python",
   "name": "python3"
  },
  "language_info": {
   "codemirror_mode": {
    "name": "ipython",
    "version": 3
   },
   "file_extension": ".py",
   "mimetype": "text/x-python",
   "name": "python",
   "nbconvert_exporter": "python",
   "pygments_lexer": "ipython3",
   "version": "3.8.9"
  },
  "toc": {
   "base_numbering": 1,
   "nav_menu": {},
   "number_sections": true,
   "sideBar": true,
   "skip_h1_title": false,
   "title_cell": "Table of Contents",
   "title_sidebar": "Contents",
   "toc_cell": true,
   "toc_position": {},
   "toc_section_display": true,
   "toc_window_display": false
  }
 },
 "nbformat": 4,
 "nbformat_minor": 5
}
